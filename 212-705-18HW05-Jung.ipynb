{
 "cells": [
  {
   "cell_type": "markdown",
   "metadata": {
    "slideshow": {
     "slide_type": "slide"
    }
   },
   "source": [
    "### Homework 5 by Jung 2018. Autumn"
   ]
  },
  {
   "cell_type": "code",
   "execution_count": 1,
   "metadata": {
    "slideshow": {
     "slide_type": "subslide"
    }
   },
   "outputs": [],
   "source": [
    "import numpy as np\n",
    "import time\n",
    "import matplotlib.pyplot as plt\n",
    "from scipy.optimize import minimize\n",
    "from scipy.optimize import fsolve\n",
    "import statsmodels.api as sm\n",
    "import pandas as pd\n",
    "import warnings\n",
    "#warnings.filterwarnings(\"ignore\")"
   ]
  },
  {
   "cell_type": "markdown",
   "metadata": {
    "slideshow": {
     "slide_type": "slide"
    }
   },
   "source": [
    "### 0. Actual Data (Korea)"
   ]
  },
  {
   "cell_type": "code",
   "execution_count": 2,
   "metadata": {},
   "outputs": [],
   "source": [
    "\n",
    "df = pd.read_pickle(\"Data.pkl\")\n",
    "df= df[83:-1]\n",
    "df[df.columns[1:]] = df[df.columns[1:]].astype(float)\n",
    "df.drop(df.columns[2:4], axis=1, inplace=True)\n",
    "df.columns = ['T', 'Y','C','I','G','Ex','Im','Emp','AvgH']\n",
    "#df['NX'] = df['Ex']-df['Im']\n",
    "df['H'] = df['Emp']*df['AvgH']\n",
    "df['Y/H'] = df['Y']/df['H']"
   ]
  },
  {
   "cell_type": "code",
   "execution_count": 3,
   "metadata": {
    "scrolled": true
   },
   "outputs": [
    {
     "data": {
      "text/html": [
       "<div>\n",
       "<style scoped>\n",
       "    .dataframe tbody tr th:only-of-type {\n",
       "        vertical-align: middle;\n",
       "    }\n",
       "\n",
       "    .dataframe tbody tr th {\n",
       "        vertical-align: top;\n",
       "    }\n",
       "\n",
       "    .dataframe thead th {\n",
       "        text-align: right;\n",
       "    }\n",
       "</style>\n",
       "<table border=\"1\" class=\"dataframe\">\n",
       "  <thead>\n",
       "    <tr style=\"text-align: right;\">\n",
       "      <th></th>\n",
       "      <th>T</th>\n",
       "      <th>Y</th>\n",
       "      <th>C</th>\n",
       "      <th>I</th>\n",
       "      <th>G</th>\n",
       "      <th>Ex</th>\n",
       "      <th>Im</th>\n",
       "      <th>Emp</th>\n",
       "      <th>AvgH</th>\n",
       "      <th>H</th>\n",
       "      <th>Y/H</th>\n",
       "    </tr>\n",
       "  </thead>\n",
       "  <tbody>\n",
       "    <tr>\n",
       "      <th>83</th>\n",
       "      <td>1980 1</td>\n",
       "      <td>35936.3</td>\n",
       "      <td>26446.8</td>\n",
       "      <td>10209.3</td>\n",
       "      <td>9595.5</td>\n",
       "      <td>4463.1</td>\n",
       "      <td>8928.7</td>\n",
       "      <td>13760.0</td>\n",
       "      <td>52.0</td>\n",
       "      <td>715520.0</td>\n",
       "      <td>0.050224</td>\n",
       "    </tr>\n",
       "    <tr>\n",
       "      <th>84</th>\n",
       "      <td>1980 2</td>\n",
       "      <td>41193.0</td>\n",
       "      <td>25833.4</td>\n",
       "      <td>13259.8</td>\n",
       "      <td>9777.8</td>\n",
       "      <td>5338.1</td>\n",
       "      <td>9656.8</td>\n",
       "      <td>14736.0</td>\n",
       "      <td>56.6</td>\n",
       "      <td>834057.6</td>\n",
       "      <td>0.049389</td>\n",
       "    </tr>\n",
       "    <tr>\n",
       "      <th>85</th>\n",
       "      <td>1980 3</td>\n",
       "      <td>41269.1</td>\n",
       "      <td>26737.2</td>\n",
       "      <td>12769.3</td>\n",
       "      <td>10078.5</td>\n",
       "      <td>5509.8</td>\n",
       "      <td>8932.9</td>\n",
       "      <td>14361.0</td>\n",
       "      <td>53.0</td>\n",
       "      <td>761133.0</td>\n",
       "      <td>0.054221</td>\n",
       "    </tr>\n",
       "    <tr>\n",
       "      <th>86</th>\n",
       "      <td>1980 4</td>\n",
       "      <td>44666.6</td>\n",
       "      <td>28433.8</td>\n",
       "      <td>13433.7</td>\n",
       "      <td>10078.1</td>\n",
       "      <td>6211.1</td>\n",
       "      <td>9835.7</td>\n",
       "      <td>11876.0</td>\n",
       "      <td>53.9</td>\n",
       "      <td>640116.4</td>\n",
       "      <td>0.069779</td>\n",
       "    </tr>\n",
       "    <tr>\n",
       "      <th>87</th>\n",
       "      <td>1981 1</td>\n",
       "      <td>37305.9</td>\n",
       "      <td>27052.2</td>\n",
       "      <td>9709.9</td>\n",
       "      <td>10492.0</td>\n",
       "      <td>5567.0</td>\n",
       "      <td>8931.1</td>\n",
       "      <td>13827.0</td>\n",
       "      <td>53.6</td>\n",
       "      <td>741127.2</td>\n",
       "      <td>0.050337</td>\n",
       "    </tr>\n",
       "  </tbody>\n",
       "</table>\n",
       "</div>"
      ],
      "text/plain": [
       "         T        Y        C        I        G      Ex      Im      Emp  AvgH  \\\n",
       "83  1980 1  35936.3  26446.8  10209.3   9595.5  4463.1  8928.7  13760.0  52.0   \n",
       "84  1980 2  41193.0  25833.4  13259.8   9777.8  5338.1  9656.8  14736.0  56.6   \n",
       "85  1980 3  41269.1  26737.2  12769.3  10078.5  5509.8  8932.9  14361.0  53.0   \n",
       "86  1980 4  44666.6  28433.8  13433.7  10078.1  6211.1  9835.7  11876.0  53.9   \n",
       "87  1981 1  37305.9  27052.2   9709.9  10492.0  5567.0  8931.1  13827.0  53.6   \n",
       "\n",
       "           H       Y/H  \n",
       "83  715520.0  0.050224  \n",
       "84  834057.6  0.049389  \n",
       "85  761133.0  0.054221  \n",
       "86  640116.4  0.069779  \n",
       "87  741127.2  0.050337  "
      ]
     },
     "execution_count": 3,
     "metadata": {},
     "output_type": "execute_result"
    }
   ],
   "source": [
    "df.head()"
   ]
  },
  {
   "cell_type": "code",
   "execution_count": 4,
   "metadata": {},
   "outputs": [],
   "source": [
    "# Deviation from HP trend\n",
    "dff = df.copy()\n",
    "for col in df.columns[1:]:\n",
    "    cycle,_ = sm.tsa.filters.hpfilter(np.log(df[[col]]), 1600)\n",
    "    dff[[col]] = cycle"
   ]
  },
  {
   "cell_type": "code",
   "execution_count": 5,
   "metadata": {
    "scrolled": true
   },
   "outputs": [],
   "source": [
    "def Stat(df_): # Report Table1\n",
    "    V_stat = pd.DataFrame(df_.std()*100)\n",
    "    V_stat.columns = ['SD']\n",
    "    V_stat['RelativeSD'] = V_stat.SD/V_stat.loc['Y','SD']\n",
    "    V_stat['Autocorr'] = 0\n",
    "    V_stat = V_stat.reindex(columns=[*V_stat.columns.tolist(), 'CrossCorr-2','CrossCorr-1','CrossCorr','CrossCorr+1','CrossCorr+2'],\\\n",
    "                   fill_value=0)\n",
    "    crosscorr = ['CrossCorr-2','CrossCorr-1','CrossCorr','CrossCorr+1','CrossCorr+2']\n",
    "    for nm, col in df_.iteritems():\n",
    "        if nm != 'T':\n",
    "            V_stat.loc[nm,'Autocorr'] = col.autocorr(1)\n",
    "            for i in range(5):\n",
    "                if i <2:\n",
    "                    V_stat.loc[nm,crosscorr[i]] = np.corrcoef(df_.Y[2-i:], col[:i-2])[0,1]\n",
    "                elif i >=3:\n",
    "                    V_stat.loc[nm,crosscorr[i]] = np.corrcoef(df_.Y[:2-i], col[i-2:])[0,1]\n",
    "                else:\n",
    "                    V_stat.loc[nm,crosscorr[i]] = np.corrcoef(df_.Y, col)[0,1]\n",
    "    return V_stat"
   ]
  },
  {
   "cell_type": "code",
   "execution_count": 6,
   "metadata": {},
   "outputs": [
    {
     "data": {
      "text/html": [
       "<div>\n",
       "<style scoped>\n",
       "    .dataframe tbody tr th:only-of-type {\n",
       "        vertical-align: middle;\n",
       "    }\n",
       "\n",
       "    .dataframe tbody tr th {\n",
       "        vertical-align: top;\n",
       "    }\n",
       "\n",
       "    .dataframe thead th {\n",
       "        text-align: right;\n",
       "    }\n",
       "</style>\n",
       "<table border=\"1\" class=\"dataframe\">\n",
       "  <thead>\n",
       "    <tr style=\"text-align: right;\">\n",
       "      <th></th>\n",
       "      <th>SD</th>\n",
       "      <th>RelativeSD</th>\n",
       "      <th>Autocorr</th>\n",
       "      <th>CrossCorr-2</th>\n",
       "      <th>CrossCorr-1</th>\n",
       "      <th>CrossCorr</th>\n",
       "      <th>CrossCorr+1</th>\n",
       "      <th>CrossCorr+2</th>\n",
       "    </tr>\n",
       "  </thead>\n",
       "  <tbody>\n",
       "    <tr>\n",
       "      <th>Y</th>\n",
       "      <td>4.70</td>\n",
       "      <td>1.00</td>\n",
       "      <td>-0.24</td>\n",
       "      <td>-0.00</td>\n",
       "      <td>-0.24</td>\n",
       "      <td>1.00</td>\n",
       "      <td>-0.24</td>\n",
       "      <td>-0.00</td>\n",
       "    </tr>\n",
       "    <tr>\n",
       "      <th>C</th>\n",
       "      <td>2.57</td>\n",
       "      <td>0.55</td>\n",
       "      <td>0.25</td>\n",
       "      <td>-0.01</td>\n",
       "      <td>-0.25</td>\n",
       "      <td>0.38</td>\n",
       "      <td>0.53</td>\n",
       "      <td>0.01</td>\n",
       "    </tr>\n",
       "    <tr>\n",
       "      <th>I</th>\n",
       "      <td>11.34</td>\n",
       "      <td>2.42</td>\n",
       "      <td>-0.25</td>\n",
       "      <td>0.06</td>\n",
       "      <td>-0.12</td>\n",
       "      <td>0.92</td>\n",
       "      <td>-0.40</td>\n",
       "      <td>0.06</td>\n",
       "    </tr>\n",
       "    <tr>\n",
       "      <th>H</th>\n",
       "      <td>5.02</td>\n",
       "      <td>1.07</td>\n",
       "      <td>-0.18</td>\n",
       "      <td>0.33</td>\n",
       "      <td>0.14</td>\n",
       "      <td>0.46</td>\n",
       "      <td>-0.55</td>\n",
       "      <td>0.30</td>\n",
       "    </tr>\n",
       "    <tr>\n",
       "      <th>Emp</th>\n",
       "      <td>3.66</td>\n",
       "      <td>0.78</td>\n",
       "      <td>-0.02</td>\n",
       "      <td>0.00</td>\n",
       "      <td>0.38</td>\n",
       "      <td>0.43</td>\n",
       "      <td>-0.48</td>\n",
       "      <td>-0.01</td>\n",
       "    </tr>\n",
       "    <tr>\n",
       "      <th>AvgH</th>\n",
       "      <td>2.56</td>\n",
       "      <td>0.55</td>\n",
       "      <td>-0.39</td>\n",
       "      <td>0.64</td>\n",
       "      <td>-0.28</td>\n",
       "      <td>0.29</td>\n",
       "      <td>-0.41</td>\n",
       "      <td>0.61</td>\n",
       "    </tr>\n",
       "    <tr>\n",
       "      <th>Y/H</th>\n",
       "      <td>5.06</td>\n",
       "      <td>1.08</td>\n",
       "      <td>-0.01</td>\n",
       "      <td>-0.33</td>\n",
       "      <td>-0.36</td>\n",
       "      <td>0.47</td>\n",
       "      <td>0.32</td>\n",
       "      <td>-0.30</td>\n",
       "    </tr>\n",
       "    <tr>\n",
       "      <th>G</th>\n",
       "      <td>3.17</td>\n",
       "      <td>0.67</td>\n",
       "      <td>-0.18</td>\n",
       "      <td>-0.03</td>\n",
       "      <td>-0.48</td>\n",
       "      <td>0.59</td>\n",
       "      <td>-0.10</td>\n",
       "      <td>-0.03</td>\n",
       "    </tr>\n",
       "    <tr>\n",
       "      <th>Ex</th>\n",
       "      <td>6.92</td>\n",
       "      <td>1.47</td>\n",
       "      <td>0.17</td>\n",
       "      <td>0.02</td>\n",
       "      <td>-0.20</td>\n",
       "      <td>0.66</td>\n",
       "      <td>-0.25</td>\n",
       "      <td>0.09</td>\n",
       "    </tr>\n",
       "    <tr>\n",
       "      <th>Im</th>\n",
       "      <td>7.38</td>\n",
       "      <td>1.57</td>\n",
       "      <td>0.61</td>\n",
       "      <td>0.37</td>\n",
       "      <td>0.19</td>\n",
       "      <td>0.43</td>\n",
       "      <td>0.05</td>\n",
       "      <td>0.30</td>\n",
       "    </tr>\n",
       "  </tbody>\n",
       "</table>\n",
       "</div>"
      ],
      "text/plain": [
       "         SD  RelativeSD  Autocorr  CrossCorr-2  CrossCorr-1  CrossCorr  \\\n",
       "Y      4.70        1.00     -0.24        -0.00        -0.24       1.00   \n",
       "C      2.57        0.55      0.25        -0.01        -0.25       0.38   \n",
       "I     11.34        2.42     -0.25         0.06        -0.12       0.92   \n",
       "H      5.02        1.07     -0.18         0.33         0.14       0.46   \n",
       "Emp    3.66        0.78     -0.02         0.00         0.38       0.43   \n",
       "AvgH   2.56        0.55     -0.39         0.64        -0.28       0.29   \n",
       "Y/H    5.06        1.08     -0.01        -0.33        -0.36       0.47   \n",
       "G      3.17        0.67     -0.18        -0.03        -0.48       0.59   \n",
       "Ex     6.92        1.47      0.17         0.02        -0.20       0.66   \n",
       "Im     7.38        1.57      0.61         0.37         0.19       0.43   \n",
       "\n",
       "      CrossCorr+1  CrossCorr+2  \n",
       "Y           -0.24        -0.00  \n",
       "C            0.53         0.01  \n",
       "I           -0.40         0.06  \n",
       "H           -0.55         0.30  \n",
       "Emp         -0.48        -0.01  \n",
       "AvgH        -0.41         0.61  \n",
       "Y/H          0.32        -0.30  \n",
       "G           -0.10        -0.03  \n",
       "Ex          -0.25         0.09  \n",
       "Im           0.05         0.30  "
      ]
     },
     "execution_count": 6,
     "metadata": {},
     "output_type": "execute_result"
    }
   ],
   "source": [
    "Actual_stat = Stat(dff)\n",
    "Actual_stat = Actual_stat.reindex(['Y', 'C', 'I', 'H', 'Emp', 'AvgH', 'Y/H', 'G', 'Ex', 'Im'])\n",
    "Actual_stat = Actual_stat.round(2)\n",
    "Actual_stat"
   ]
  },
  {
   "cell_type": "code",
   "execution_count": 7,
   "metadata": {},
   "outputs": [
    {
     "name": "stdout",
     "output_type": "stream",
     "text": [
      "Relative SD of H over w : 0.99\n"
     ]
    }
   ],
   "source": [
    "print('Relative SD of H over w : %0.2f' %(Actual_stat.loc['H','SD']/Actual_stat.loc['Y/H','SD']))"
   ]
  },
  {
   "cell_type": "code",
   "execution_count": 8,
   "metadata": {},
   "outputs": [
    {
     "name": "stdout",
     "output_type": "stream",
     "text": [
      "Correlation of H with w : -0.57\n"
     ]
    }
   ],
   "source": [
    "print('Correlation of H with w : %0.2f' %(np.corrcoef(dff.H, dff['Y/H'])[0,1]))"
   ]
  },
  {
   "cell_type": "code",
   "execution_count": 9,
   "metadata": {},
   "outputs": [
    {
     "data": {
      "image/png": "[encoded data removed]",
      "text/plain": [
       "<Figure size 432x288 with 1 Axes>"
      ]
     },
     "metadata": {},
     "output_type": "display_data"
    }
   ],
   "source": [
    "plt.scatter(dff['Y/H']*100, dff['H']*100, s=10)\n",
    "plt.title('Chart1. Actual Korean Data, 1980:1-2018:2')\n",
    "plt.show()"
   ]
  },
  {
   "cell_type": "code",
   "execution_count": null,
   "metadata": {},
   "outputs": [],
   "source": []
  },
  {
   "cell_type": "markdown",
   "metadata": {
    "slideshow": {
     "slide_type": "slide"
    }
   },
   "source": [
    "### 1. Standard Model"
   ]
  },
  {
   "cell_type": "markdown",
   "metadata": {
    "slideshow": {
     "slide_type": "subslide"
    }
   },
   "source": [
    "Set parameters "
   ]
  },
  {
   "cell_type": "code",
   "execution_count": 10,
   "metadata": {},
   "outputs": [],
   "source": [
    "beta = 0.99; theta = 0.36; delta = 0.025; rho = 0.95; sigma = 0.007"
   ]
  },
  {
   "cell_type": "markdown",
   "metadata": {
    "slideshow": {
     "slide_type": "subslide"
    }
   },
   "source": [
    "Sovle for Steady State"
   ]
  },
  {
   "cell_type": "code",
   "execution_count": 11,
   "metadata": {},
   "outputs": [
    {
     "name": "stdout",
     "output_type": "stream",
     "text": [
      "Kbar: 12.66\n",
      "Ybar: 1.23\n",
      "Cbar: 0.92\n",
      "Zbar: 0.00\n",
      "mu  : 1.72\n"
     ]
    }
   ],
   "source": [
    "Hbar = 1/3\n",
    "Kbar = (Hbar**(theta-1)*(1/beta -(1-delta))/theta)**(1/(theta-1))\n",
    "Ybar = Kbar**theta*Hbar**(1-theta)\n",
    "Cbar = Ybar - delta*Kbar\n",
    "Zbar = 0\n",
    "mu = (1-Hbar)*(1-theta)*Ybar/Hbar/Cbar\n",
    "print('Kbar: %0.2f' %Kbar)\n",
    "print('Ybar: %0.2f' %Ybar)\n",
    "print('Cbar: %0.2f' %Cbar)\n",
    "print('Zbar: %0.2f' %Zbar)\n",
    "print('mu  : %0.2f' %mu)"
   ]
  },
  {
   "cell_type": "markdown",
   "metadata": {},
   "source": [
    "##### LQ Method"
   ]
  },
  {
   "cell_type": "code",
   "execution_count": 12,
   "metadata": {},
   "outputs": [],
   "source": [
    "def fnU(var): # solve for utility fn. value given Wmat\n",
    "    [Z, K, K_, H] = var\n",
    "    return np.log( np.exp(Z)*K**theta*H**(1-theta)+(1-delta)*K - K_) + mu*np.log(1-H)"
   ]
  },
  {
   "cell_type": "code",
   "execution_count": 13,
   "metadata": {},
   "outputs": [],
   "source": [
    "def fnJH(fnU, var): # Solve for Jacobian & Hessian, var must be a list\n",
    "    mar = 0.00001 # marginal increase/decrease\n",
    "    dim = len(var)\n",
    "    Jaco = np.zeros(dim)\n",
    "    #fnUss= fnU(var)\n",
    "    for ii in range(dim):\n",
    "        var_f = var.copy()\n",
    "        var_b = var.copy()\n",
    "        var_f[ii] = var[ii]+mar\n",
    "        var_b[ii] = var[ii]-mar\n",
    "        Jaco[ii] = (fnU(var_f)-fnU(var_b))/mar/2\n",
    "    Hessian =  np.zeros((dim,dim))   \n",
    "    for ii in range(dim):\n",
    "        for jj in range(dim):\n",
    "            var_ii = var.copy(); var_ij = var.copy()\n",
    "            var_ji = var.copy(); var_jj = var.copy()\n",
    "            if ii==jj:\n",
    "                var_ii[ii] = var[ii]+mar\n",
    "                #var_ij = var; var_ji = var; \n",
    "                var_jj[ii] = var[ii]-mar\n",
    "                Hessian[ii,jj] = (fnU(var_ii)-fnU(var_ij)-fnU(var_ji)+fnU(var_jj))/mar/mar\n",
    "            else:\n",
    "                var_ii[ii] = var[ii]+mar; var_ii[jj] = var[jj]+mar\n",
    "                var_ij[jj] = var[jj]+mar; var_ij[ii] = var[ii]-mar\n",
    "                var_ji[ii] = var[ii]+mar; var_ji[jj] = var[jj]-mar\n",
    "                var_jj[ii] = var[ii]-mar; var_jj[jj] = var[jj]-mar\n",
    "                Hessian[ii,jj] = (fnU(var_ii)-fnU(var_ij)-fnU(var_ji)+fnU(var_jj))/mar/mar/2/2\n",
    "    Hessian = (Hessian+Hessian.T)/2\n",
    "    return Jaco[:,np.newaxis], Hessian"
   ]
  },
  {
   "cell_type": "code",
   "execution_count": 14,
   "metadata": {},
   "outputs": [
    {
     "data": {
      "text/plain": [
       "array([[-1.63818941,  0.6724089 ,  1.10021763, -1.08919095,  1.93652086],\n",
       "       [ 0.6724089 , -0.23184288, -0.72066464,  0.73238263, -0.44516293],\n",
       "       [ 1.10021763, -0.72066464, -0.60618455,  0.59916461, -1.38367498],\n",
       "       [-1.08919095,  0.73238263,  0.59916461, -0.59317329,  1.40617448],\n",
       "       [ 1.93652086, -0.44516293, -1.38367498,  1.40617448, -6.66430189]])"
      ]
     },
     "execution_count": 14,
     "metadata": {},
     "output_type": "execute_result"
    }
   ],
   "source": [
    "# Make Q\n",
    "Wbar = np.array([Zbar, Kbar, Kbar, Hbar])[:,np.newaxis]\n",
    "Rmat = fnU(list(Wbar))\n",
    "Jmat, Hmat = fnJH(fnU, list(Wbar))\n",
    "\n",
    "Q11 = Rmat -Wbar.T@Jmat +Wbar.T@Hmat@Wbar/2\n",
    "Q12 = (Jmat-Hmat@Wbar)/2\n",
    "Q22 = Hmat/2\n",
    "Q = np.concatenate((np.concatenate((Q11,Q12.T),axis=1),np.concatenate((Q12,Q22),axis=1)),axis=0)\n",
    "Q"
   ]
  },
  {
   "cell_type": "code",
   "execution_count": 15,
   "metadata": {},
   "outputs": [],
   "source": [
    "# Number of variables\n",
    "l_exo = 1\n",
    "l_state = 1\n",
    "l_f = 1+ l_exo+l_state\n",
    "l_d = 2\n",
    "l_all = l_f+l_d"
   ]
  },
  {
   "cell_type": "code",
   "execution_count": 16,
   "metadata": {},
   "outputs": [
    {
     "data": {
      "text/plain": [
       "array([[1.  , 0.  , 0.  , 0.  , 0.  ],\n",
       "       [0.  , 0.95, 0.  , 0.  , 0.  ],\n",
       "       [0.  , 0.  , 0.  , 1.  , 0.  ]])"
      ]
     },
     "execution_count": 16,
     "metadata": {},
     "output_type": "execute_result"
    }
   ],
   "source": [
    "# Make B\n",
    "B = np.zeros((l_f ,l_f+l_d))\n",
    "B[0,0] =1\n",
    "B[np.arange(1,l_exo+1),np.arange(1,l_exo+1)] = rho\n",
    "B[np.arange(1+l_exo,1+l_exo+l_state), np.arange(1+l_exo+l_state,1+l_exo+l_state+l_state)]=1\n",
    "B"
   ]
  },
  {
   "cell_type": "code",
   "execution_count": 17,
   "metadata": {
    "scrolled": false
   },
   "outputs": [
    {
     "name": "stdout",
     "output_type": "stream",
     "text": [
      "Total number of iterations: 910\n",
      "Total running time: 0.049 seconds\n",
      "       \n"
     ]
    },
    {
     "data": {
      "text/plain": [
       "array([[ 0.58742189,  1.43259737,  0.95361147],\n",
       "       [ 0.41452782,  0.23548137, -0.0064119 ]])"
      ]
     },
     "execution_count": 17,
     "metadata": {},
     "output_type": "execute_result"
    }
   ],
   "source": [
    "tol = 0.0001\n",
    "\n",
    "P0 = np.ones((l_f,l_f))\n",
    "#P0 = np.zeros((l_f,l_f))\n",
    "Ppre = P0\n",
    "\n",
    "start_time = time.time()\n",
    "for i in range(2000):\n",
    "    Msigma = np.zeros((B.shape[1],B.shape[1]))\n",
    "    Msigma[0,0] = np.trace(Ppre[1:1+l_exo, 1:1+l_exo]@np.ones((1,1))*sigma**2)\n",
    "    #Msigma\n",
    "\n",
    "    M = B.T@Ppre@B + Msigma\n",
    "    #M\n",
    "    \n",
    "    P = Q[:l_f,:l_f] + beta*M[:l_f,:l_f] -((Q[:l_f,l_f:]+beta*M[:l_f,l_f:]) @ np.linalg.inv(Q[l_f:,l_f:]+beta*M[l_f:,l_f:]) @\\\n",
    "        (Q[:l_f,l_f:]+beta*M[:l_f,l_f:]).T)\n",
    "    dist = np.max(np.abs(P.flatten() - Ppre.flatten()))\n",
    "    if dist < tol:\n",
    "        print('Total number of iterations: %d' %(i+1))\n",
    "        print('Total running time: %0.3f seconds' % (time.time() - start_time))\n",
    "        print('       ')\n",
    "        Msigma = np.zeros((B.shape[1],B.shape[1]))\n",
    "        Msigma[0,0] = np.trace(Ppre[1:1+l_exo, 1:1+l_exo]@np.ones((1,1))*sigma**2)\n",
    "        M = B.T@P@B + Msigma\n",
    "        break\n",
    "    Ppre = P\n",
    "    if (i+1)%1000 ==0:\n",
    "        print('%d times running' %(i+1))\n",
    "        print('Iteration gap : %0.3f' %(dist))\n",
    "        if i==1999:\n",
    "            print('The maximum iteration number has reached')\n",
    "            print('Total running time: %0.3f seconds' % (time.time() - start_time))\n",
    "            print('       ')\n",
    "\n",
    "policy_f = -np.linalg.inv(Q[l_f:,l_f:]+beta*M[l_f:,l_f:]) @ (Q[:l_f,l_f:]+beta*M[:l_f,l_f:]).T\n",
    "policy_f # policy fn. shape(d,s)"
   ]
  },
  {
   "cell_type": "code",
   "execution_count": 18,
   "metadata": {},
   "outputs": [
    {
     "data": {
      "text/plain": [
       "array([[12.66308451],\n",
       "       [ 0.33333333]])"
      ]
     },
     "execution_count": 18,
     "metadata": {},
     "output_type": "execute_result"
    }
   ],
   "source": [
    "policy_f @ np.array([1,Zbar,Kbar])[:,np.newaxis]"
   ]
  },
  {
   "cell_type": "markdown",
   "metadata": {},
   "source": [
    "##### Log-Linearization"
   ]
  },
  {
   "cell_type": "code",
   "execution_count": 19,
   "metadata": {},
   "outputs": [
    {
     "data": {
      "text/plain": [
       "array([[ 0.95366931,  0.1131987 ],\n",
       "       [-0.24312359,  0.70697974]])"
      ]
     },
     "execution_count": 19,
     "metadata": {},
     "output_type": "execute_result"
    }
   ],
   "source": [
    "# exo: Z\n",
    "# state: K\n",
    "# endo: H\n",
    "Rbar = theta*Ybar/Kbar+1-delta\n",
    "\n",
    "# Define Matrix\n",
    "# 1. equil. equ.\n",
    "exo_f = [[-1 + theta*Ybar/Kbar/Rbar], [0]]\n",
    "state_f = [[-theta + theta*Ybar/Kbar/Rbar*(theta-1)], [-Kbar]]\n",
    "#endo_f = [[theta + theta*Ybar/Kbar/Rbar*(1-theta)], [0]] #indivisible labor case\n",
    "endo_f = [[+(Hbar/(1-Hbar)+theta) + theta*Ybar/Kbar/Rbar*(1-theta)], [0]] #standard model\n",
    "exo = [[1], [Ybar -Cbar]]\n",
    "state = [[theta], [Ybar*theta -Cbar*theta +(1-delta)*Kbar]]\n",
    "#endo = [[-theta], [+Ybar*(1-theta) +Cbar*theta]] #indivisible labor case\n",
    "endo = [[-(Hbar/(1-Hbar)+theta)], [+Ybar*(1-theta) +Cbar*(Hbar/(1-Hbar)+theta)]] #standard model\n",
    "# 2. exo process\n",
    "exo_process = [rho]\n",
    "\n",
    "# to array\n",
    "Mlist = [exo_f, state_f, endo_f, exo, state, endo, exo_process]\n",
    "for i, x in enumerate(Mlist):\n",
    "    Mlist[i] = np.array(x)\n",
    "[exo_f, state_f, endo_f, exo, state, endo, exo_process] = Mlist\n",
    "\n",
    "phi1 = state[0]/state_f[0]; phi2=endo_f[0]/state_f[0]; phi3=endo[0]/state_f[0]; \n",
    "phi4=exo_f[0]/state_f[0]; phi5=exo[0]/state_f[0]\n",
    "\n",
    "eta1 = state[1]/state_f[1]; eta2=endo[1]/state_f[1]; eta3=exo[1]/state_f[1]\n",
    "\n",
    "# decision rull coeff.\n",
    "aa = 1\n",
    "bb = eta1- eta2/phi2 +phi3/phi2\n",
    "cc = phi3/phi2*eta1 -eta2*phi1/phi2\n",
    "\n",
    "psi1 = (-bb - np.sqrt(bb**2 - 4*aa*cc))/2/aa\n",
    "psi3 = -psi1/eta2 - eta1/eta2\n",
    "\n",
    "dd = 1+phi2*psi3 - phi2/eta2*exo_process - phi3/eta2\n",
    "ee = eta3/eta2*phi2*exo_process + phi3*eta3/eta2 -phi4*exo_process -phi5 \n",
    "psi2 = ee/dd\n",
    "psi4 = -psi2/eta2 -eta3/eta2\n",
    "\n",
    "policy_loglin = np.append(np.append(psi1,psi2)[np.newaxis,:],np.append(psi3,psi4)[np.newaxis,:], axis=0)\n",
    "policy_loglin"
   ]
  },
  {
   "cell_type": "code",
   "execution_count": 20,
   "metadata": {},
   "outputs": [
    {
     "data": {
      "image/png": "[encoded data removed]",
      "text/plain": [
       "<Figure size 432x288 with 1 Axes>"
      ]
     },
     "metadata": {},
     "output_type": "display_data"
    }
   ],
   "source": [
    "# Log-Lin\n",
    "# Impulse response to Z innovation size 1\n",
    "Zt_pre = 0\n",
    "Kt_pre = 0\n",
    "periods = 220\n",
    "\n",
    "Z_shocks = np.array([1*sigma]+[0]*(periods-1))\n",
    "\n",
    "K_f_series = np.zeros(periods); H_series = np.zeros(periods)\n",
    "Z_series = np.zeros(periods)\n",
    "for t in range(periods):\n",
    "    #Zt_pre = (1-rho)*Zbar + rho*Zt_pre + Z_shocks[t\n",
    "    Zt_pre = rho*Zt_pre + Z_shocks[t]\n",
    "    d_t = policy_loglin @ np.array([Kt_pre,Zt_pre])[:,np.newaxis]\n",
    "    Kt_pre = d_t[0][0]\n",
    "    H_series[t] = d_t[1]\n",
    "    K_f_series[t] = Kt_pre\n",
    "    Z_series[t] = Zt_pre\n",
    "\n",
    "K_f_series_loglin = np.exp(K_f_series)*Kbar\n",
    "H_series_loglin = np.exp(H_series)*Hbar\n",
    "Z_series_loglin = Z_series\n",
    "\n",
    "K_series_loglin = np.append(Kbar, K_f_series_loglin[:-1])\n",
    "Y_series_loglin = np.exp(Z_series_loglin)*K_series_loglin**theta*H_series_loglin**(1-theta)\n",
    "I_series_loglin = K_f_series_loglin - (1-delta)*K_series_loglin\n",
    "C_series_loglin = Y_series_loglin - I_series_loglin\n",
    "Y_H_series_loglin = Y_series_loglin/H_series_loglin\n",
    "R_series_loglin = Y_series_loglin/K_series_loglin*theta-delta\n",
    "\n",
    "plt.plot(np.arange(220),K_f_series_loglin, label='Kt+1')\n",
    "plt.legend()\n",
    "plt.title('Log-linearization method')\n",
    "plt.show()"
   ]
  },
  {
   "cell_type": "markdown",
   "metadata": {},
   "source": [
    "##### Results"
   ]
  },
  {
   "cell_type": "code",
   "execution_count": 21,
   "metadata": {},
   "outputs": [
    {
     "data": {
      "image/png": "[encoded data removed]",
      "text/plain": [
       "<Figure size 432x288 with 1 Axes>"
      ]
     },
     "metadata": {},
     "output_type": "display_data"
    }
   ],
   "source": [
    "# Impulse response to Z innovation size 1\n",
    "Zt_pre = Zbar\n",
    "Kt_pre = Kbar\n",
    "periods = 220\n",
    "\n",
    "Z_shocks = np.array([1*sigma]+[0]*(periods-1))\n",
    "\n",
    "K_f_series = np.zeros(periods); H_series = np.zeros(periods)\n",
    "Z_series = np.zeros(periods)\n",
    "for t in range(periods):\n",
    "    Zt_pre = (1-rho)*Zbar + rho*Zt_pre + Z_shocks[t]\n",
    "    d_t = policy_f @ np.array([1,Zt_pre,Kt_pre])[:,np.newaxis]\n",
    "    Kt_pre = d_t[0]\n",
    "    H_series[t] = d_t[1]\n",
    "    K_f_series[t] = Kt_pre\n",
    "    Z_series[t] = Zt_pre\n",
    "\n",
    "K_series = np.append(Kbar, K_f_series[:-1])\n",
    "Y_series = np.exp(Z_series)*K_series**theta*H_series**(1-theta)\n",
    "I_series = K_f_series - (1-delta)*K_series\n",
    "C_series = Y_series - I_series\n",
    "Y_H_series = Y_series/H_series\n",
    "R_series = Y_series/K_series*theta-delta\n",
    "\n",
    "\n",
    "plt.plot(np.arange(220),K_f_series, label='Kt+1')\n",
    "plt.legend()\n",
    "plt.title('LQ method')\n",
    "plt.show()"
   ]
  },
  {
   "cell_type": "code",
   "execution_count": 22,
   "metadata": {},
   "outputs": [],
   "source": [
    "def plot_irf(txt):\n",
    "    fig = plt.figure(figsize=(15, 5))\n",
    "    ax = plt.subplot(231)\n",
    "    ax.plot(np.arange(220),Y_series,'b',label='LQ')\n",
    "    ax.plot(np.arange(220),Y_series_loglin,'r',label='LL')\n",
    "    ax_ = ax.twinx()\n",
    "    ax_.plot(np.arange(220),Y_series-Y_series_loglin,'k:',label='LQ-LL')\n",
    "    plt.title('Y%s' %txt)\n",
    "    ax.legend(); ax_.legend(loc='right')\n",
    "    \n",
    "    ax = plt.subplot(232)\n",
    "    ax.plot(np.arange(220),C_series,'b',label='LQ')\n",
    "    ax.plot(np.arange(220),C_series_loglin,'r',label='LL')\n",
    "    ax_ = ax.twinx()\n",
    "    ax_.plot(np.arange(220),C_series-C_series_loglin,'k:',label='LQ-LL')\n",
    "    plt.title('C%s' %txt)\n",
    "    ax.legend(); ax_.legend(loc='right')\n",
    "    \n",
    "    ax = plt.subplot(233)\n",
    "    ax.plot(np.arange(220),I_series,'b',label='LQ')\n",
    "    ax.plot(np.arange(220),I_series_loglin,'r',label='LL')\n",
    "    ax_ = ax.twinx()\n",
    "    ax_.plot(np.arange(220),I_series-I_series_loglin,'k:',label='LQ-LL')\n",
    "    plt.title('I%s' %txt)\n",
    "    ax.legend(); ax_.legend(loc='right')\n",
    "    \n",
    "    ax = plt.subplot(234)\n",
    "    ax.plot(np.arange(220),K_series,'b',label='LQ')\n",
    "    ax.plot(np.arange(220),K_series_loglin,'r',label='LL')\n",
    "    ax_ = ax.twinx()\n",
    "    ax_.plot(np.arange(220),K_series-K_series_loglin,'k:',label='LQ-LL')\n",
    "    plt.title('K%s' %txt)\n",
    "    ax.legend(); ax_.legend(loc='right')\n",
    "    \n",
    "    ax = plt.subplot(235)\n",
    "    ax.plot(np.arange(220),Y_H_series,'b',label='LQ')\n",
    "    ax.plot(np.arange(220),Y_H_series_loglin,'r',label='LL')\n",
    "    ax_ = ax.twinx()\n",
    "    ax_.plot(np.arange(220),Y_H_series-Y_H_series_loglin,'k:',label='LQ-LL')\n",
    "    plt.title('Y/H%s' %txt)\n",
    "    ax.legend(); ax_.legend(loc='right')\n",
    "\n",
    "    ax = plt.subplot(236)\n",
    "    ax.plot(np.arange(220),R_series,'b',label='LQ')\n",
    "    ax.plot(np.arange(220),R_series_loglin,'r',label='LL')\n",
    "    ax_ = ax.twinx()\n",
    "    ax_.plot(np.arange(220),R_series-R_series_loglin,'k:',label='LQ-LL')\n",
    "    plt.title('R%s' %txt)\n",
    "    ax.legend(); ax_.legend(loc='right')\n",
    "    plt.tight_layout()\n",
    "    plt.show()"
   ]
  },
  {
   "cell_type": "code",
   "execution_count": 23,
   "metadata": {},
   "outputs": [
    {
     "data": {
      "image/png": "[encoded data removed]",
      "text/plain": [
       "<Figure size 1080x360 with 12 Axes>"
      ]
     },
     "metadata": {},
     "output_type": "display_data"
    }
   ],
   "source": [
    "plot_irf(' to the positive 1 std. Z shock')"
   ]
  },
  {
   "cell_type": "code",
   "execution_count": 24,
   "metadata": {},
   "outputs": [
    {
     "data": {
      "image/png": "[encoded data removed]",
      "text/plain": [
       "<Figure size 432x288 with 1 Axes>"
      ]
     },
     "metadata": {},
     "output_type": "display_data"
    }
   ],
   "source": [
    "# Simulation\n",
    "Zt_pre = 0\n",
    "Kt_pre = Kbar\n",
    "periods = 220\n",
    "\n",
    "Z_shocks = np.random.normal(0,sigma,periods)\n",
    "K_f_series = np.zeros(periods); H_series = np.zeros(periods)\n",
    "Z_series = np.zeros(periods)\n",
    "\n",
    "for t in range(periods):\n",
    "    Zt_pre = (1-rho)*Zbar + rho*Zt_pre + Z_shocks[t]\n",
    "    d_t = policy_f @ np.array([1,Zt_pre,Kt_pre])[:,np.newaxis]\n",
    "    Kt_pre = d_t[0]\n",
    "    H_series[t] = d_t[1]\n",
    "    K_f_series[t] = Kt_pre\n",
    "    Z_series[t] = Zt_pre\n",
    "\n",
    "#plt.plot(np.arange(220),K_f_series)\n",
    "#plt.show()\n",
    "\n",
    "K_series = np.append(Kbar, K_f_series[:-1])\n",
    "Y_series = np.exp(Z_series)*K_series**theta*H_series**(1-theta)\n",
    "I_series = K_f_series - (1-delta)*K_series\n",
    "C_series = Y_series - I_series\n",
    "Y_H_series = Y_series/H_series\n",
    "R_series = Y_series/K_series*theta-delta\n",
    "\n",
    "K_series,_ = sm.tsa.filters.hpfilter(np.log(K_series), 1600)\n",
    "Y_series,_ = sm.tsa.filters.hpfilter(np.log(Y_series), 1600)\n",
    "I_series,_ = sm.tsa.filters.hpfilter(np.log(I_series), 1600)\n",
    "C_series,_ = sm.tsa.filters.hpfilter(np.log(C_series), 1600)\n",
    "H_series,_ = sm.tsa.filters.hpfilter(np.log(H_series), 1600)\n",
    "Y_H_series,_ = sm.tsa.filters.hpfilter(np.log(Y_H_series), 1600)\n",
    "R_series,_ = sm.tsa.filters.hpfilter(np.log(R_series), 1600)\n",
    "\n",
    "plt.scatter(Y_H_series*100, Y_series*100, s=10)\n",
    "plt.title('Chart2. Standard Model')\n",
    "plt.show()"
   ]
  },
  {
   "cell_type": "code",
   "execution_count": 25,
   "metadata": {},
   "outputs": [
    {
     "name": "stdout",
     "output_type": "stream",
     "text": [
      "% S.D of Y : 1.29\n",
      "S.D of C vs Y : 0.32\n",
      "S.D of I vs Y : 3.14\n",
      "S.D of H vs Y : 0.49\n",
      "S.D of Y_H vs Y : 0.53\n",
      "S.D of H vs Y_H : 0.92\n",
      "Corr(H, Y_H)    : 0.93\n"
     ]
    }
   ],
   "source": [
    "# Repeat Simulation\n",
    "rep = 100\n",
    "periods = 240\n",
    "\n",
    "Z_shocks = np.random.normal(0,sigma,(rep,periods))\n",
    "K_f_series = np.zeros((rep,periods)); H_series = np.zeros((rep,periods))\n",
    "Z_series = np.zeros((rep,periods))\n",
    "\n",
    "for rr in range(rep):\n",
    "    Zt_pre = 0\n",
    "    Kt_pre = Kbar\n",
    "    for t in range(periods):\n",
    "        Zt_pre = (1-rho)*Zbar + rho*Zt_pre + Z_shocks[rr, t]\n",
    "        d_t = policy_f @ np.array([1,Zt_pre,Kt_pre])[:,np.newaxis]\n",
    "        Kt_pre = d_t[0]\n",
    "        H_series[rr,t] = d_t[1]\n",
    "        K_f_series[rr,t] = Kt_pre\n",
    "        Z_series[rr,t] = Zt_pre\n",
    "\n",
    "\n",
    "K_series = np.append(np.ones((rep,1))*Kbar, K_f_series[:,:-1], axis=1)\n",
    "Y_series = np.exp(Z_series)*K_series**theta*H_series**(1-theta)\n",
    "I_series = K_f_series - (1-delta)*K_series\n",
    "C_series = Y_series - I_series\n",
    "Y_H_series = Y_series/H_series\n",
    "R_series = Y_series/K_series*theta-delta\n",
    "\n",
    "simdata = {}; sim_sd={}\n",
    "simlist = ['Y','C','I','H','Y_H','R']\n",
    "varseries = [Y_series, C_series, I_series, H_series, Y_H_series, R_series]\n",
    "for i, ser in enumerate(varseries):\n",
    "    for rr in range(rep):\n",
    "        cycle,_ = sm.tsa.filters.hpfilter(np.log(ser[rr,:]), 1600)\n",
    "        ser[rr,:] = cycle\n",
    "    simdata[simlist[i]] = np.mean(ser, axis=0)\n",
    "    sim_sd[simlist[i]] = np.mean(np.std(ser, axis=1))\n",
    "\n",
    "for rr in range(rep):\n",
    "    if rr==0:\n",
    "        stat = Stat(pd.DataFrame({simlist[i]:varseries[i][rr,:] for i in range(len(simlist))}))\n",
    "    else:\n",
    "        tmp = Stat(pd.DataFrame({simlist[i]:varseries[i][rr,:] for i in range(len(simlist))}))\n",
    "        stat += tmp\n",
    "stat= stat/rep\n",
    "stat= stat.round(2)\n",
    "\n",
    "corr_h_w = np.zeros(rep)\n",
    "for rr in range(rep):\n",
    "    corr_h_w[rr] = np.corrcoef(H_series[rr,:], Y_H_series[rr,:])[0,1]\n",
    "    \n",
    "print('%% S.D of Y : %0.2f' % (sim_sd['Y']*100))\n",
    "print('S.D of C vs Y : %0.2f' % (sim_sd['C']/sim_sd['Y']))\n",
    "print('S.D of I vs Y : %0.2f' % (sim_sd['I']/sim_sd['Y']))\n",
    "print('S.D of H vs Y : %0.2f' % (sim_sd['H']/sim_sd['Y']))\n",
    "print('S.D of Y_H vs Y : %0.2f' % (sim_sd['Y_H']/sim_sd['Y']))\n",
    "print('S.D of H vs Y_H : %0.2f' % (sim_sd['H']/sim_sd['Y_H']))\n",
    "print('Corr(H, Y_H)    : %0.2f' % (np.mean(corr_h_w)))\n",
    "\n",
    "#plt.scatter(simdata['Y_H']*100, simdata['Y']*100, s=10)\n",
    "#lt.show()"
   ]
  },
  {
   "cell_type": "code",
   "execution_count": 26,
   "metadata": {},
   "outputs": [
    {
     "data": {
      "text/html": [
       "<div>\n",
       "<style scoped>\n",
       "    .dataframe tbody tr th:only-of-type {\n",
       "        vertical-align: middle;\n",
       "    }\n",
       "\n",
       "    .dataframe tbody tr th {\n",
       "        vertical-align: top;\n",
       "    }\n",
       "\n",
       "    .dataframe thead th {\n",
       "        text-align: right;\n",
       "    }\n",
       "</style>\n",
       "<table border=\"1\" class=\"dataframe\">\n",
       "  <thead>\n",
       "    <tr style=\"text-align: right;\">\n",
       "      <th></th>\n",
       "      <th>SD</th>\n",
       "      <th>RelativeSD</th>\n",
       "      <th>Autocorr</th>\n",
       "      <th>CrossCorr-2</th>\n",
       "      <th>CrossCorr-1</th>\n",
       "      <th>CrossCorr</th>\n",
       "      <th>CrossCorr+1</th>\n",
       "      <th>CrossCorr+2</th>\n",
       "    </tr>\n",
       "  </thead>\n",
       "  <tbody>\n",
       "    <tr>\n",
       "      <th>Y</th>\n",
       "      <td>1.29</td>\n",
       "      <td>1.00</td>\n",
       "      <td>0.70</td>\n",
       "      <td>0.46</td>\n",
       "      <td>0.70</td>\n",
       "      <td>1.00</td>\n",
       "      <td>0.70</td>\n",
       "      <td>0.46</td>\n",
       "    </tr>\n",
       "    <tr>\n",
       "      <th>C</th>\n",
       "      <td>0.41</td>\n",
       "      <td>0.32</td>\n",
       "      <td>0.80</td>\n",
       "      <td>0.26</td>\n",
       "      <td>0.54</td>\n",
       "      <td>0.89</td>\n",
       "      <td>0.76</td>\n",
       "      <td>0.63</td>\n",
       "    </tr>\n",
       "    <tr>\n",
       "      <th>I</th>\n",
       "      <td>4.06</td>\n",
       "      <td>3.14</td>\n",
       "      <td>0.69</td>\n",
       "      <td>0.50</td>\n",
       "      <td>0.72</td>\n",
       "      <td>0.99</td>\n",
       "      <td>0.65</td>\n",
       "      <td>0.39</td>\n",
       "    </tr>\n",
       "    <tr>\n",
       "      <th>H</th>\n",
       "      <td>0.63</td>\n",
       "      <td>0.49</td>\n",
       "      <td>0.69</td>\n",
       "      <td>0.51</td>\n",
       "      <td>0.73</td>\n",
       "      <td>0.98</td>\n",
       "      <td>0.63</td>\n",
       "      <td>0.35</td>\n",
       "    </tr>\n",
       "    <tr>\n",
       "      <th>Y_H</th>\n",
       "      <td>0.69</td>\n",
       "      <td>0.53</td>\n",
       "      <td>0.73</td>\n",
       "      <td>0.39</td>\n",
       "      <td>0.66</td>\n",
       "      <td>0.98</td>\n",
       "      <td>0.75</td>\n",
       "      <td>0.54</td>\n",
       "    </tr>\n",
       "    <tr>\n",
       "      <th>R</th>\n",
       "      <td>4.59</td>\n",
       "      <td>3.55</td>\n",
       "      <td>0.69</td>\n",
       "      <td>0.53</td>\n",
       "      <td>0.73</td>\n",
       "      <td>0.96</td>\n",
       "      <td>0.59</td>\n",
       "      <td>0.30</td>\n",
       "    </tr>\n",
       "  </tbody>\n",
       "</table>\n",
       "</div>"
      ],
      "text/plain": [
       "       SD  RelativeSD  Autocorr  CrossCorr-2  CrossCorr-1  CrossCorr  \\\n",
       "Y    1.29        1.00      0.70         0.46         0.70       1.00   \n",
       "C    0.41        0.32      0.80         0.26         0.54       0.89   \n",
       "I    4.06        3.14      0.69         0.50         0.72       0.99   \n",
       "H    0.63        0.49      0.69         0.51         0.73       0.98   \n",
       "Y_H  0.69        0.53      0.73         0.39         0.66       0.98   \n",
       "R    4.59        3.55      0.69         0.53         0.73       0.96   \n",
       "\n",
       "     CrossCorr+1  CrossCorr+2  \n",
       "Y           0.70         0.46  \n",
       "C           0.76         0.63  \n",
       "I           0.65         0.39  \n",
       "H           0.63         0.35  \n",
       "Y_H         0.75         0.54  \n",
       "R           0.59         0.30  "
      ]
     },
     "execution_count": 26,
     "metadata": {},
     "output_type": "execute_result"
    }
   ],
   "source": [
    "stat"
   ]
  },
  {
   "cell_type": "code",
   "execution_count": null,
   "metadata": {},
   "outputs": [],
   "source": []
  },
  {
   "cell_type": "markdown",
   "metadata": {
    "slideshow": {
     "slide_type": "slide"
    }
   },
   "source": [
    "### 2. Nonseparable leisure"
   ]
  },
  {
   "cell_type": "markdown",
   "metadata": {
    "slideshow": {
     "slide_type": "subslide"
    }
   },
   "source": [
    "Set parameters "
   ]
  },
  {
   "cell_type": "code",
   "execution_count": 27,
   "metadata": {},
   "outputs": [],
   "source": [
    "beta = 0.99; theta = 0.36; delta = 0.025; rho = 0.95; sigma = 0.007\n",
    "alpha0 = 0.35; eta = 0.10"
   ]
  },
  {
   "cell_type": "markdown",
   "metadata": {
    "slideshow": {
     "slide_type": "subslide"
    }
   },
   "source": [
    "Sovle for Steady State"
   ]
  },
  {
   "cell_type": "code",
   "execution_count": 28,
   "metadata": {},
   "outputs": [
    {
     "name": "stdout",
     "output_type": "stream",
     "text": [
      "Kbar: 12.66\n",
      "Ybar: 1.23\n",
      "Cbar: 0.92\n",
      "Zbar: 0.00\n",
      "mu  : 1.83\n",
      "Xbar: 6.67\n"
     ]
    }
   ],
   "source": [
    "Hbar = 1/3\n",
    "Kbar = (Hbar**(theta-1)*(1/beta -(1-delta))/theta)**(1/(theta-1))\n",
    "Ybar = Kbar**theta*Hbar**(1-theta)\n",
    "Cbar = Ybar - delta*Kbar\n",
    "Zbar = 0\n",
    "mu = np.exp(Zbar)*(1-theta)*Ybar/Hbar/Cbar*(1-Hbar)*(1/beta-(1-eta)) / (eta*(1-alpha0)-alpha0*(1-eta)+alpha0/beta)\n",
    "Xbar = (1-Hbar)/eta\n",
    "print('Kbar: %0.2f' %Kbar)\n",
    "print('Ybar: %0.2f' %Ybar)\n",
    "print('Cbar: %0.2f' %Cbar)\n",
    "print('Zbar: %0.2f' %Zbar)\n",
    "print('mu  : %0.2f' %mu)\n",
    "print('Xbar: %0.2f' %Xbar)"
   ]
  },
  {
   "cell_type": "code",
   "execution_count": 29,
   "metadata": {},
   "outputs": [],
   "source": [
    "def fnU(var): # solve for utility fn. value given Wmat\n",
    "    [Z, K, X, K_, X_] = var\n",
    "    H = 1-(X_-(1-eta)*X)\n",
    "    return np.log( np.exp(Z)*K**theta*H**(1-theta)+(1-delta)*K - K_) + mu*np.log(alpha0*(1-H) +eta*(1-alpha0)*X)"
   ]
  },
  {
   "cell_type": "code",
   "execution_count": 30,
   "metadata": {},
   "outputs": [
    {
     "data": {
      "text/plain": [
       "-0.8276517007349621"
      ]
     },
     "execution_count": 30,
     "metadata": {},
     "output_type": "execute_result"
    }
   ],
   "source": [
    "fnU([Zbar, Kbar, Xbar, Kbar, Xbar])"
   ]
  },
  {
   "cell_type": "code",
   "execution_count": 31,
   "metadata": {},
   "outputs": [],
   "source": [
    "def fnJH(fnU, var): # Solve for Jacobian & Hessian, var must be a list\n",
    "    mar = 0.00001 # marginal increase/decrease\n",
    "    dim = len(var)\n",
    "    Jaco = np.zeros(dim)\n",
    "    #fnUss= fnU(var)\n",
    "    for ii in range(dim):\n",
    "        var_f = var.copy()\n",
    "        var_b = var.copy()\n",
    "        var_f[ii] = var[ii]+mar\n",
    "        var_b[ii] = var[ii]-mar\n",
    "        Jaco[ii] = (fnU(var_f)-fnU(var_b))/mar/2\n",
    "    Hessian =  np.zeros((dim,dim))   \n",
    "    for ii in range(dim):\n",
    "        for jj in range(dim):\n",
    "            var_ii = var.copy(); var_ij = var.copy()\n",
    "            var_ji = var.copy(); var_jj = var.copy()\n",
    "            if ii==jj:\n",
    "                var_ii[ii] = var[ii]+mar\n",
    "                #var_ij = var; var_ji = var; \n",
    "                var_jj[ii] = var[ii]-mar\n",
    "                Hessian[ii,jj] = (fnU(var_ii)-fnU(var_ij)-fnU(var_ji)+fnU(var_jj))/mar/mar\n",
    "            else:\n",
    "                var_ii[ii] = var[ii]+mar; var_ii[jj] = var[jj]+mar\n",
    "                var_ij[jj] = var[jj]+mar; var_ij[ii] = var[ii]-mar\n",
    "                var_ji[ii] = var[ii]+mar; var_ji[jj] = var[jj]-mar\n",
    "                var_jj[ii] = var[ii]-mar; var_jj[jj] = var[jj]-mar\n",
    "                Hessian[ii,jj] = (fnU(var_ii)-fnU(var_ij)-fnU(var_ji)+fnU(var_jj))/mar/mar/2/2\n",
    "    Hessian = (Hessian+Hessian.T)/2\n",
    "    return Jaco[:,np.newaxis], Hessian"
   ]
  },
  {
   "cell_type": "code",
   "execution_count": 32,
   "metadata": {},
   "outputs": [
    {
     "data": {
      "text/plain": [
       "array([[-4.6384715 ,  0.22724569, -0.28332537, -2.61768507,  0.31698307,\n",
       "         3.1067406 ],\n",
       "       [ 0.22724569, -0.23186175, -0.7206645 , -0.4006466 ,  0.73238249,\n",
       "         0.44516293],\n",
       "       [-0.28332537, -0.7206645 , -0.60619454, -1.24530858,  0.59916461,\n",
       "         1.38367526],\n",
       "       [-2.61768507, -0.4006466 , -1.24530858, -3.9581971 ,  1.2655571 ,\n",
       "         4.43519305],\n",
       "       [ 0.31698307,  0.73238249,  0.59916461,  1.2655571 , -0.59317329,\n",
       "        -1.40617448],\n",
       "       [ 3.1067406 ,  0.44516293,  1.38367526,  4.43519305, -1.40617448,\n",
       "        -4.98004415]])"
      ]
     },
     "execution_count": 32,
     "metadata": {},
     "output_type": "execute_result"
    }
   ],
   "source": [
    "# Make Q\n",
    "Wbar = np.array([Zbar, Kbar, Xbar, Kbar, Xbar])[:,np.newaxis]\n",
    "Rmat = fnU(list(Wbar))\n",
    "Jmat, Hmat = fnJH(fnU, list(Wbar))\n",
    "\n",
    "Q11 = Rmat -Wbar.T@Jmat +Wbar.T@Hmat@Wbar/2\n",
    "Q12 = (Jmat-Hmat@Wbar)/2\n",
    "Q22 = Hmat/2\n",
    "Q = np.concatenate((np.concatenate((Q11,Q12.T),axis=1),np.concatenate((Q12,Q22),axis=1)),axis=0)\n",
    "Q"
   ]
  },
  {
   "cell_type": "code",
   "execution_count": 33,
   "metadata": {},
   "outputs": [],
   "source": [
    "# Number of variables\n",
    "l_exo = 1\n",
    "l_state = 2\n",
    "l_f = 1+ l_exo+l_state\n",
    "l_d = 2\n",
    "l_all = l_f+l_d"
   ]
  },
  {
   "cell_type": "code",
   "execution_count": 34,
   "metadata": {},
   "outputs": [
    {
     "data": {
      "text/plain": [
       "array([[1.  , 0.  , 0.  , 0.  , 0.  , 0.  ],\n",
       "       [0.  , 0.95, 0.  , 0.  , 0.  , 0.  ],\n",
       "       [0.  , 0.  , 0.  , 0.  , 1.  , 0.  ],\n",
       "       [0.  , 0.  , 0.  , 0.  , 0.  , 1.  ]])"
      ]
     },
     "execution_count": 34,
     "metadata": {},
     "output_type": "execute_result"
    }
   ],
   "source": [
    "# Make B\n",
    "B = np.zeros((l_f ,l_f+l_d))\n",
    "B[0,0] =1\n",
    "B[np.arange(1,l_exo+1),np.arange(1,l_exo+1)] = rho\n",
    "B[np.arange(1+l_exo,1+l_exo+l_state), np.arange(1+l_exo+l_state,1+l_exo+l_state+l_state)]=1\n",
    "B"
   ]
  },
  {
   "cell_type": "code",
   "execution_count": 35,
   "metadata": {
    "scrolled": true
   },
   "outputs": [
    {
     "name": "stdout",
     "output_type": "stream",
     "text": [
      "Total number of iterations: 919\n",
      "Total running time: 0.051 seconds\n",
      "       \n"
     ]
    },
    {
     "data": {
      "text/plain": [
       "array([[ 0.16668334,  1.72997226,  0.94646124,  0.07669237],\n",
       "       [ 0.78796106, -0.37273744,  0.00966719,  0.86344338]])"
      ]
     },
     "execution_count": 35,
     "metadata": {},
     "output_type": "execute_result"
    }
   ],
   "source": [
    "tol = 0.0001\n",
    "\n",
    "P0 = np.ones((l_f,l_f))\n",
    "#P0 = np.zeros((l_f,l_f))\n",
    "Ppre = P0\n",
    "\n",
    "start_time = time.time()\n",
    "for i in range(2000):\n",
    "    Msigma = np.zeros((B.shape[1],B.shape[1]))\n",
    "    Msigma[0,0] = np.trace(Ppre[1:1+l_exo, 1:1+l_exo]@np.ones((1,1))*sigma**2)\n",
    "    #If there are more than 2 exo shocks, then modify above line\n",
    "\n",
    "    M = B.T@Ppre@B + Msigma\n",
    "    #M\n",
    "    \n",
    "    P = Q[:l_f,:l_f] + beta*M[:l_f,:l_f] -((Q[:l_f,l_f:]+beta*M[:l_f,l_f:]) @ np.linalg.inv(Q[l_f:,l_f:]+beta*M[l_f:,l_f:]) @\\\n",
    "        (Q[:l_f,l_f:]+beta*M[:l_f,l_f:]).T)\n",
    "    dist = np.max(np.abs(P.flatten() - Ppre.flatten()))\n",
    "    if dist < tol:\n",
    "        print('Total number of iterations: %d' %(i+1))\n",
    "        print('Total running time: %0.3f seconds' % (time.time() - start_time))\n",
    "        print('       ')\n",
    "        Msigma = np.zeros((B.shape[1],B.shape[1]))\n",
    "        Msigma[0,0] = np.trace(Ppre[1:1+l_exo, 1:1+l_exo]@np.ones((1,1))*sigma**2)\n",
    "        M = B.T@P@B + Msigma\n",
    "        break\n",
    "    Ppre = P\n",
    "    if (i+1)%1000 ==0:\n",
    "        print('%d times running' %(i+1))\n",
    "        print('Iteration gap : %0.3f' %(dist))\n",
    "        if i==1999:\n",
    "            print('The maximum iteration number has reached')\n",
    "            print('Total running time: %0.3f seconds' % (time.time() - start_time))\n",
    "            print('       ')\n",
    "\n",
    "policy_f = -np.linalg.inv(Q[l_f:,l_f:]+beta*M[l_f:,l_f:]) @ (Q[:l_f,l_f:]+beta*M[:l_f,l_f:]).T\n",
    "policy_f # policy fn. shape(d,s)"
   ]
  },
  {
   "cell_type": "code",
   "execution_count": 36,
   "metadata": {},
   "outputs": [
    {
     "data": {
      "text/plain": [
       "array([[12.66308451],\n",
       "       [ 6.66666667]])"
      ]
     },
     "execution_count": 36,
     "metadata": {},
     "output_type": "execute_result"
    }
   ],
   "source": [
    "policy_f @ np.array([1,Zbar,Kbar, Xbar])[:,np.newaxis]"
   ]
  },
  {
   "cell_type": "code",
   "execution_count": 37,
   "metadata": {},
   "outputs": [
    {
     "data": {
      "text/plain": [
       "[1, 0, 12.663084512717404, 6.666666666666667]"
      ]
     },
     "execution_count": 37,
     "metadata": {},
     "output_type": "execute_result"
    }
   ],
   "source": [
    "[1,Zbar,Kbar, Xbar]"
   ]
  },
  {
   "cell_type": "code",
   "execution_count": 38,
   "metadata": {},
   "outputs": [
    {
     "data": {
      "image/png": "[encoded data removed]",
      "text/plain": [
       "<Figure size 432x288 with 1 Axes>"
      ]
     },
     "metadata": {},
     "output_type": "display_data"
    }
   ],
   "source": [
    "# Impulse response to Z innovation size 1\n",
    "Zt_pre = Zbar\n",
    "Kt_pre = Kbar\n",
    "Xt_pre = Xbar\n",
    "periods = 220\n",
    "\n",
    "Z_shocks = np.array([1]+[0]*(periods-1))\n",
    "\n",
    "K_f_series = np.zeros(periods)\n",
    "X_f_series = np.zeros(periods)\n",
    "Z_series = np.zeros(periods)\n",
    "for t in range(periods):\n",
    "    Zt_pre = (1-rho)*Zbar + rho*Zt_pre + Z_shocks[t]\n",
    "    d_t = policy_f @ np.array([1,Zt_pre,Kt_pre, Xt_pre])[:,np.newaxis]\n",
    "    Kt_pre = d_t[0]\n",
    "    Xt_pre = d_t[1]\n",
    "    K_f_series[t] = Kt_pre\n",
    "    X_f_series[t] = Xt_pre\n",
    "    Z_series[t] = Zt_pre\n",
    "\n",
    "\n",
    "plt.plot(np.arange(220),K_f_series, label='Kt+1')\n",
    "plt.plot(np.arange(220),X_f_series, label='Xt+1')\n",
    "plt.legend()\n",
    "plt.show()"
   ]
  },
  {
   "cell_type": "code",
   "execution_count": 39,
   "metadata": {},
   "outputs": [],
   "source": [
    "def plot_irf(txt):\n",
    "    fig = plt.figure(figsize=(15, 5))\n",
    "    plt.subplot(231)\n",
    "    plt.plot(np.arange(220),Y_series)\n",
    "    plt.title('Y%s' %txt)\n",
    "    plt.subplot(232)\n",
    "    plt.plot(np.arange(220),C_series)\n",
    "    plt.title('C%s' %txt)\n",
    "    plt.subplot(233)\n",
    "    plt.plot(np.arange(220),I_series)\n",
    "    plt.title('I%s' %txt)\n",
    "    plt.subplot(234)\n",
    "    plt.plot(np.arange(220),K_series)\n",
    "    plt.title('K%s' %txt)\n",
    "    plt.subplot(235)\n",
    "    plt.plot(np.arange(220),Y_H_series)\n",
    "    plt.title('Y/H%s' %txt)\n",
    "    plt.subplot(236)\n",
    "    plt.plot(np.arange(220),R_series)\n",
    "    plt.title('R%s' %txt)\n",
    "    plt.tight_layout()\n",
    "    plt.show()"
   ]
  },
  {
   "cell_type": "code",
   "execution_count": 40,
   "metadata": {},
   "outputs": [
    {
     "data": {
      "image/png": "[encoded data removed]",
      "text/plain": [
       "<Figure size 1080x360 with 6 Axes>"
      ]
     },
     "metadata": {},
     "output_type": "display_data"
    }
   ],
   "source": [
    "K_series = np.append(Kbar, K_f_series[:-1])\n",
    "X_series = np.append(Xbar, X_f_series[:-1])\n",
    "H_series = 1-X_f_series+(1-eta)*X_series\n",
    "Y_series = np.exp(Z_series)*K_series**theta*H_series**(1-theta)\n",
    "I_series = K_f_series - (1-delta)*K_series\n",
    "C_series = Y_series - I_series\n",
    "Y_H_series = Y_series/H_series\n",
    "R_series = Y_series/K_series*theta-delta\n",
    "\n",
    "\n",
    "plot_irf(' to the positive 1 std. Z shock')"
   ]
  },
  {
   "cell_type": "code",
   "execution_count": 41,
   "metadata": {},
   "outputs": [
    {
     "data": {
      "image/png": "[encoded data removed]",
      "text/plain": [
       "<Figure size 432x288 with 1 Axes>"
      ]
     },
     "metadata": {},
     "output_type": "display_data"
    }
   ],
   "source": [
    "# Simulation\n",
    "Zt_pre = Zbar\n",
    "Kt_pre = Kbar\n",
    "Xt_pre = Xbar\n",
    "periods = 220\n",
    "\n",
    "Z_shocks = np.random.normal(0,sigma,periods)\n",
    "K_f_series = np.zeros(periods)\n",
    "X_f_series = np.zeros(periods)\n",
    "Z_series = np.zeros(periods)\n",
    "\n",
    "for t in range(periods):\n",
    "    Zt_pre = (1-rho)*Zbar + rho*Zt_pre + Z_shocks[t]\n",
    "    d_t = policy_f @ np.array([1,Zt_pre,Kt_pre,Xt_pre])[:,np.newaxis]\n",
    "    Kt_pre = d_t[0]\n",
    "    Xt_pre = d_t[1]\n",
    "    K_f_series[t] = Kt_pre\n",
    "    X_f_series[t] = Xt_pre\n",
    "    Z_series[t] = Zt_pre\n",
    "    #H_series[t] = d_t[1]\n",
    "\n",
    "\n",
    "K_series = np.append(Kbar, K_f_series[:-1])\n",
    "X_series = np.append(Xbar, X_f_series[:-1])\n",
    "H_series = 1-X_f_series+(1-eta)*X_series\n",
    "Y_series = np.exp(Z_series)*K_series**theta*H_series**(1-theta)\n",
    "I_series = K_f_series - (1-delta)*K_series\n",
    "C_series = Y_series - I_series\n",
    "Y_H_series = Y_series/H_series\n",
    "R_series = Y_series/K_series*theta-delta\n",
    "\n",
    "K_series,_ = sm.tsa.filters.hpfilter(np.log(K_series), 1600)\n",
    "Y_series,_ = sm.tsa.filters.hpfilter(np.log(Y_series), 1600)\n",
    "I_series,_ = sm.tsa.filters.hpfilter(np.log(I_series), 1600)\n",
    "C_series,_ = sm.tsa.filters.hpfilter(np.log(C_series), 1600)\n",
    "H_series,_ = sm.tsa.filters.hpfilter(np.log(H_series), 1600)\n",
    "Y_H_series,_ = sm.tsa.filters.hpfilter(np.log(Y_H_series), 1600)\n",
    "R_series,_ = sm.tsa.filters.hpfilter(np.log(R_series), 1600)\n",
    "\n",
    "plt.scatter(Y_H_series*100, Y_series*100, s=10)\n",
    "plt.title('Chart3. The Nonseparable Leisure Model')\n",
    "plt.show()"
   ]
  },
  {
   "cell_type": "code",
   "execution_count": 42,
   "metadata": {},
   "outputs": [
    {
     "name": "stdout",
     "output_type": "stream",
     "text": [
      "% S.D of Y : 1.52\n",
      "S.D of C vs Y : 0.30\n",
      "S.D of I vs Y : 3.21\n",
      "S.D of H vs Y : 0.65\n",
      "S.D of Y_H vs Y : 0.40\n",
      "S.D of H vs Y_H : 1.62\n",
      "Corr(H, Y_H)    : 0.81\n"
     ]
    }
   ],
   "source": [
    "# Repeat Simulation\n",
    "rep = 100\n",
    "periods = 240\n",
    "\n",
    "Z_shocks = np.random.normal(0,sigma,(rep,periods))\n",
    "K_f_series = np.zeros((rep,periods))\n",
    "X_f_series = np.zeros((rep,periods))\n",
    "Z_series = np.zeros((rep,periods))\n",
    "#H_series = np.zeros((rep,periods))\n",
    "\n",
    "for rr in range(rep):\n",
    "    Zt_pre = Zbar\n",
    "    Kt_pre = Kbar\n",
    "    Xt_pre = Xbar\n",
    "    for t in range(periods):\n",
    "        Zt_pre = (1-rho)*Zbar + rho*Zt_pre + Z_shocks[rr, t]\n",
    "        d_t = policy_f @ np.array([1,Zt_pre,Kt_pre,Xt_pre])[:,np.newaxis]\n",
    "        Kt_pre = d_t[0]\n",
    "        Xt_pre = d_t[1]\n",
    "        K_f_series[rr,t] = Kt_pre\n",
    "        X_f_series[rr,t] = Xt_pre\n",
    "        Z_series[rr,t] = Zt_pre\n",
    "        #H_series[rr,t] = d_t[1]\n",
    "\n",
    "K_series = np.append(np.ones((rep,1))*Kbar, K_f_series[:,:-1], axis=1)\n",
    "X_series = np.append(np.ones((rep,1))*Xbar, X_f_series[:,:-1], axis=1)\n",
    "H_series = 1-X_f_series+(1-eta)*X_series\n",
    "Y_series = np.exp(Z_series)*K_series**theta*H_series**(1-theta)\n",
    "I_series = K_f_series - (1-delta)*K_series\n",
    "C_series = Y_series - I_series\n",
    "Y_H_series = Y_series/H_series\n",
    "R_series = Y_series/K_series*theta-delta\n",
    "\n",
    "simdata = {}; sim_sd={}\n",
    "simlist = ['Y','C','I','H','Y_H','R']\n",
    "varseries = [Y_series, C_series, I_series, H_series, Y_H_series, R_series]\n",
    "for i, ser in enumerate(varseries):\n",
    "    for rr in range(rep):\n",
    "        cycle,_ = sm.tsa.filters.hpfilter(np.log(ser[rr,:]), 1600)\n",
    "        ser[rr,:] = cycle\n",
    "    simdata[simlist[i]] = np.mean(ser, axis=0)\n",
    "    sim_sd[simlist[i]] = np.mean(np.std(ser, axis=1))\n",
    "\n",
    "for rr in range(rep):\n",
    "    if rr==0:\n",
    "        stat = Stat(pd.DataFrame({simlist[i]:varseries[i][rr,:] for i in range(len(simlist))}))\n",
    "    else:\n",
    "        tmp = Stat(pd.DataFrame({simlist[i]:varseries[i][rr,:] for i in range(len(simlist))}))\n",
    "        stat += tmp\n",
    "stat= stat/rep\n",
    "stat= stat.round(2)\n",
    "\n",
    "corr_h_w = np.zeros(rep)\n",
    "for rr in range(rep):\n",
    "    corr_h_w[rr] = np.corrcoef(H_series[rr,:], Y_H_series[rr,:])[0,1]\n",
    "    \n",
    "print('%% S.D of Y : %0.2f' % (sim_sd['Y']*100))\n",
    "print('S.D of C vs Y : %0.2f' % (sim_sd['C']/sim_sd['Y']))\n",
    "print('S.D of I vs Y : %0.2f' % (sim_sd['I']/sim_sd['Y']))\n",
    "print('S.D of H vs Y : %0.2f' % (sim_sd['H']/sim_sd['Y']))\n",
    "print('S.D of Y_H vs Y : %0.2f' % (sim_sd['Y_H']/sim_sd['Y']))\n",
    "print('S.D of H vs Y_H : %0.2f' % (sim_sd['H']/sim_sd['Y_H']))\n",
    "print('Corr(H, Y_H)    : %0.2f' % (np.mean(corr_h_w)))"
   ]
  },
  {
   "cell_type": "code",
   "execution_count": 43,
   "metadata": {},
   "outputs": [
    {
     "data": {
      "text/html": [
       "<div>\n",
       "<style scoped>\n",
       "    .dataframe tbody tr th:only-of-type {\n",
       "        vertical-align: middle;\n",
       "    }\n",
       "\n",
       "    .dataframe tbody tr th {\n",
       "        vertical-align: top;\n",
       "    }\n",
       "\n",
       "    .dataframe thead th {\n",
       "        text-align: right;\n",
       "    }\n",
       "</style>\n",
       "<table border=\"1\" class=\"dataframe\">\n",
       "  <thead>\n",
       "    <tr style=\"text-align: right;\">\n",
       "      <th></th>\n",
       "      <th>SD</th>\n",
       "      <th>RelativeSD</th>\n",
       "      <th>Autocorr</th>\n",
       "      <th>CrossCorr-2</th>\n",
       "      <th>CrossCorr-1</th>\n",
       "      <th>CrossCorr</th>\n",
       "      <th>CrossCorr+1</th>\n",
       "      <th>CrossCorr+2</th>\n",
       "    </tr>\n",
       "  </thead>\n",
       "  <tbody>\n",
       "    <tr>\n",
       "      <th>Y</th>\n",
       "      <td>1.52</td>\n",
       "      <td>1.00</td>\n",
       "      <td>0.69</td>\n",
       "      <td>0.43</td>\n",
       "      <td>0.69</td>\n",
       "      <td>1.00</td>\n",
       "      <td>0.69</td>\n",
       "      <td>0.43</td>\n",
       "    </tr>\n",
       "    <tr>\n",
       "      <th>C</th>\n",
       "      <td>0.45</td>\n",
       "      <td>0.30</td>\n",
       "      <td>0.80</td>\n",
       "      <td>0.21</td>\n",
       "      <td>0.50</td>\n",
       "      <td>0.87</td>\n",
       "      <td>0.75</td>\n",
       "      <td>0.63</td>\n",
       "    </tr>\n",
       "    <tr>\n",
       "      <th>I</th>\n",
       "      <td>4.88</td>\n",
       "      <td>3.21</td>\n",
       "      <td>0.67</td>\n",
       "      <td>0.47</td>\n",
       "      <td>0.70</td>\n",
       "      <td>0.99</td>\n",
       "      <td>0.64</td>\n",
       "      <td>0.36</td>\n",
       "    </tr>\n",
       "    <tr>\n",
       "      <th>H</th>\n",
       "      <td>0.99</td>\n",
       "      <td>0.65</td>\n",
       "      <td>0.66</td>\n",
       "      <td>0.50</td>\n",
       "      <td>0.71</td>\n",
       "      <td>0.97</td>\n",
       "      <td>0.58</td>\n",
       "      <td>0.29</td>\n",
       "    </tr>\n",
       "    <tr>\n",
       "      <th>Y_H</th>\n",
       "      <td>0.61</td>\n",
       "      <td>0.40</td>\n",
       "      <td>0.78</td>\n",
       "      <td>0.28</td>\n",
       "      <td>0.56</td>\n",
       "      <td>0.92</td>\n",
       "      <td>0.77</td>\n",
       "      <td>0.62</td>\n",
       "    </tr>\n",
       "    <tr>\n",
       "      <th>R</th>\n",
       "      <td>5.42</td>\n",
       "      <td>3.56</td>\n",
       "      <td>0.67</td>\n",
       "      <td>0.50</td>\n",
       "      <td>0.71</td>\n",
       "      <td>0.96</td>\n",
       "      <td>0.58</td>\n",
       "      <td>0.28</td>\n",
       "    </tr>\n",
       "  </tbody>\n",
       "</table>\n",
       "</div>"
      ],
      "text/plain": [
       "       SD  RelativeSD  Autocorr  CrossCorr-2  CrossCorr-1  CrossCorr  \\\n",
       "Y    1.52        1.00      0.69         0.43         0.69       1.00   \n",
       "C    0.45        0.30      0.80         0.21         0.50       0.87   \n",
       "I    4.88        3.21      0.67         0.47         0.70       0.99   \n",
       "H    0.99        0.65      0.66         0.50         0.71       0.97   \n",
       "Y_H  0.61        0.40      0.78         0.28         0.56       0.92   \n",
       "R    5.42        3.56      0.67         0.50         0.71       0.96   \n",
       "\n",
       "     CrossCorr+1  CrossCorr+2  \n",
       "Y           0.69         0.43  \n",
       "C           0.75         0.63  \n",
       "I           0.64         0.36  \n",
       "H           0.58         0.29  \n",
       "Y_H         0.77         0.62  \n",
       "R           0.58         0.28  "
      ]
     },
     "execution_count": 43,
     "metadata": {},
     "output_type": "execute_result"
    }
   ],
   "source": [
    "stat"
   ]
  },
  {
   "cell_type": "code",
   "execution_count": null,
   "metadata": {},
   "outputs": [],
   "source": []
  },
  {
   "cell_type": "markdown",
   "metadata": {
    "slideshow": {
     "slide_type": "slide"
    }
   },
   "source": [
    "### 3. RBC with indivisible labor"
   ]
  },
  {
   "cell_type": "markdown",
   "metadata": {
    "slideshow": {
     "slide_type": "subslide"
    }
   },
   "source": [
    "Set parameters "
   ]
  },
  {
   "cell_type": "code",
   "execution_count": 44,
   "metadata": {},
   "outputs": [],
   "source": [
    "beta = 0.99; theta = 0.36; delta = 0.025; rho = 0.95; sigma = 0.007"
   ]
  },
  {
   "cell_type": "markdown",
   "metadata": {
    "slideshow": {
     "slide_type": "subslide"
    }
   },
   "source": [
    "Solve for Steady State"
   ]
  },
  {
   "cell_type": "code",
   "execution_count": 45,
   "metadata": {},
   "outputs": [
    {
     "name": "stdout",
     "output_type": "stream",
     "text": [
      "Kbar: 12.66\n",
      "Ybar: 1.23\n",
      "Cbar: 0.92\n",
      "Zbar: 0.00\n",
      "mu  : 2.58\n"
     ]
    }
   ],
   "source": [
    "Hbar = 1/3\n",
    "Kbar = (Hbar**(theta-1)*(1/beta -(1-delta))/theta)**(1/(theta-1))\n",
    "Ybar = Kbar**theta*Hbar**(1-theta)\n",
    "Cbar = Ybar - delta*Kbar\n",
    "Zbar = 0\n",
    "mu = np.exp(Zbar)*(1-theta)*Ybar/Hbar/Cbar\n",
    "print('Kbar: %0.2f' %Kbar)\n",
    "print('Ybar: %0.2f' %Ybar)\n",
    "print('Cbar: %0.2f' %Cbar)\n",
    "print('Zbar: %0.2f' %Zbar)\n",
    "print('mu  : %0.2f' %mu)"
   ]
  },
  {
   "cell_type": "code",
   "execution_count": 46,
   "metadata": {},
   "outputs": [],
   "source": [
    "def fnU(var): # solve for utility fn. value given Wmat\n",
    "    [Z, K, K_, H] = var\n",
    "    return np.log( np.exp(Z)*K**theta*H**(1-theta)+(1-delta)*K - K_) - mu*H"
   ]
  },
  {
   "cell_type": "code",
   "execution_count": 47,
   "metadata": {},
   "outputs": [
    {
     "data": {
      "text/plain": [
       "-0.9461201017985518"
      ]
     },
     "execution_count": 47,
     "metadata": {},
     "output_type": "execute_result"
    }
   ],
   "source": [
    "fnU([Zbar, Kbar, Kbar, Hbar])"
   ]
  },
  {
   "cell_type": "code",
   "execution_count": 48,
   "metadata": {},
   "outputs": [
    {
     "data": {
      "text/plain": [
       "array([[-1.5857489 ,  0.67240885,  1.10021767, -1.08919095,  1.2910112 ],\n",
       "       [ 0.67240885, -0.23184288, -0.72066464,  0.73238263, -0.4451628 ],\n",
       "       [ 1.10021767, -0.72066464, -0.60618455,  0.59916461, -1.38367512],\n",
       "       [-1.08919095,  0.73238263,  0.59916461, -0.59317329,  1.40617448],\n",
       "       [ 1.2910112 , -0.4451628 , -1.38367512,  1.40617448, -4.72776762]])"
      ]
     },
     "execution_count": 48,
     "metadata": {},
     "output_type": "execute_result"
    }
   ],
   "source": [
    "# Make Q\n",
    "Wbar = np.array([Zbar, Kbar, Kbar, Hbar])[:,np.newaxis]\n",
    "Rmat = fnU(list(Wbar))\n",
    "Jmat, Hmat = fnJH(fnU, list(Wbar))\n",
    "\n",
    "Q11 = Rmat -Wbar.T@Jmat +Wbar.T@Hmat@Wbar/2\n",
    "Q12 = (Jmat-Hmat@Wbar)/2\n",
    "Q22 = Hmat/2\n",
    "Q = np.concatenate((np.concatenate((Q11,Q12.T),axis=1),np.concatenate((Q12,Q22),axis=1)),axis=0)\n",
    "Q"
   ]
  },
  {
   "cell_type": "code",
   "execution_count": 49,
   "metadata": {},
   "outputs": [],
   "source": [
    "# Number of variables\n",
    "l_exo = 1\n",
    "l_state = 1\n",
    "l_f = 1+ l_exo+l_state\n",
    "l_d = 2\n",
    "l_all = l_f+l_d"
   ]
  },
  {
   "cell_type": "code",
   "execution_count": 50,
   "metadata": {},
   "outputs": [
    {
     "data": {
      "text/plain": [
       "array([[1.  , 0.  , 0.  , 0.  , 0.  ],\n",
       "       [0.  , 0.95, 0.  , 0.  , 0.  ],\n",
       "       [0.  , 0.  , 0.  , 1.  , 0.  ]])"
      ]
     },
     "execution_count": 50,
     "metadata": {},
     "output_type": "execute_result"
    }
   ],
   "source": [
    "# Make B\n",
    "B = np.zeros((l_f ,l_f+l_d))\n",
    "B[0,0] =1\n",
    "B[np.arange(1,l_exo+1),np.arange(1,l_exo+1)] = rho\n",
    "B[np.arange(1+l_exo,1+l_exo+l_state), np.arange(1+l_exo+l_state,1+l_exo+l_state+l_state)]=1\n",
    "B"
   ]
  },
  {
   "cell_type": "code",
   "execution_count": 51,
   "metadata": {
    "scrolled": true
   },
   "outputs": [
    {
     "name": "stdout",
     "output_type": "stream",
     "text": [
      "Total number of iterations: 927\n",
      "Total running time: 0.051 seconds\n",
      "       \n"
     ]
    },
    {
     "data": {
      "text/plain": [
       "array([[ 0.7377373 ,  1.96428839,  0.94174111],\n",
       "       [ 0.49249429,  0.49007684, -0.01256889]])"
      ]
     },
     "execution_count": 51,
     "metadata": {},
     "output_type": "execute_result"
    }
   ],
   "source": [
    "tol = 0.0001\n",
    "\n",
    "P0 = np.ones((l_f,l_f))\n",
    "#P0 = np.zeros((l_f,l_f))\n",
    "Ppre = P0\n",
    "\n",
    "start_time = time.time()\n",
    "for i in range(2000):\n",
    "    Msigma = np.zeros((B.shape[1],B.shape[1]))\n",
    "    Msigma[0,0] = np.trace(Ppre[1:1+l_exo, 1:1+l_exo]@np.ones((1,1))*sigma**2)\n",
    "    #If there are more than 2 exo shocks, then modify above line\n",
    "\n",
    "    M = B.T@Ppre@B + Msigma\n",
    "    #M\n",
    "    \n",
    "    P = Q[:l_f,:l_f] + beta*M[:l_f,:l_f] -((Q[:l_f,l_f:]+beta*M[:l_f,l_f:]) @ np.linalg.inv(Q[l_f:,l_f:]+beta*M[l_f:,l_f:]) @\\\n",
    "        (Q[:l_f,l_f:]+beta*M[:l_f,l_f:]).T)\n",
    "    dist = np.max(np.abs(P.flatten() - Ppre.flatten()))\n",
    "    if dist < tol:\n",
    "        print('Total number of iterations: %d' %(i+1))\n",
    "        print('Total running time: %0.3f seconds' % (time.time() - start_time))\n",
    "        print('       ')\n",
    "        Msigma = np.zeros((B.shape[1],B.shape[1]))\n",
    "        Msigma[0,0] = np.trace(Ppre[1:1+l_exo, 1:1+l_exo]@np.ones((1,1))*sigma**2)\n",
    "        M = B.T@P@B + Msigma\n",
    "        break\n",
    "    Ppre = P\n",
    "    if (i+1)%1000 ==0:\n",
    "        print('%d times running' %(i+1))\n",
    "        print('Iteration gap : %0.3f' %(dist))\n",
    "        if i==1999:\n",
    "            print('The maximum iteration number has reached')\n",
    "            print('Total running time: %0.3f seconds' % (time.time() - start_time))\n",
    "            print('       ')\n",
    "\n",
    "policy_f = -np.linalg.inv(Q[l_f:,l_f:]+beta*M[l_f:,l_f:]) @ (Q[:l_f,l_f:]+beta*M[:l_f,l_f:]).T\n",
    "policy_f # policy fn. shape(d,s)"
   ]
  },
  {
   "cell_type": "code",
   "execution_count": 52,
   "metadata": {},
   "outputs": [
    {
     "name": "stdout",
     "output_type": "stream",
     "text": [
      "[[12.66308452]\n",
      " [ 0.33333333]]\n",
      "[1, 0, 12.663084512717404, 0.3333333333333333]\n"
     ]
    }
   ],
   "source": [
    "print(policy_f @ np.array([1,Zbar,Kbar])[:,np.newaxis])\n",
    "print([1,Zbar,Kbar,Hbar])"
   ]
  },
  {
   "cell_type": "code",
   "execution_count": 53,
   "metadata": {},
   "outputs": [
    {
     "data": {
      "image/png": "[encoded data removed]",
      "text/plain": [
       "<Figure size 432x288 with 1 Axes>"
      ]
     },
     "metadata": {},
     "output_type": "display_data"
    }
   ],
   "source": [
    "# Impulse response to Z innovation size 1\n",
    "Zt_pre = Zbar\n",
    "Kt_pre = Kbar\n",
    "periods = 220\n",
    "\n",
    "Z_shocks = np.array([1]+[0]*(periods-1))\n",
    "\n",
    "K_f_series = np.zeros(periods); H_series = np.zeros(periods)\n",
    "Z_series = np.zeros(periods)\n",
    "for t in range(periods):\n",
    "    Zt_pre = (1-rho)*Zbar + rho*Zt_pre + Z_shocks[t]\n",
    "    d_t = policy_f @ np.array([1,Zt_pre,Kt_pre])[:,np.newaxis]\n",
    "    Kt_pre = d_t[0]\n",
    "    H_series[t] = d_t[1]\n",
    "    K_f_series[t] = Kt_pre\n",
    "    Z_series[t] = Zt_pre\n",
    "\n",
    "\n",
    "plt.plot(np.arange(220),K_f_series, label='Kt+1')\n",
    "plt.legend()\n",
    "plt.show()"
   ]
  },
  {
   "cell_type": "code",
   "execution_count": 54,
   "metadata": {},
   "outputs": [],
   "source": [
    "def plot_irf(txt):\n",
    "    fig = plt.figure(figsize=(15, 5))\n",
    "    plt.subplot(231)\n",
    "    plt.plot(np.arange(220),Y_series)\n",
    "    plt.title('Y%s' %txt)\n",
    "    plt.subplot(232)\n",
    "    plt.plot(np.arange(220),C_series)\n",
    "    plt.title('C%s' %txt)\n",
    "    plt.subplot(233)\n",
    "    plt.plot(np.arange(220),I_series)\n",
    "    plt.title('I%s' %txt)\n",
    "    plt.subplot(234)\n",
    "    plt.plot(np.arange(220),K_series)\n",
    "    plt.title('K%s' %txt)\n",
    "    plt.subplot(235)\n",
    "    plt.plot(np.arange(220),Y_H_series)\n",
    "    plt.title('Y/H%s' %txt)\n",
    "    plt.subplot(236)\n",
    "    plt.plot(np.arange(220),R_series)\n",
    "    plt.title('R%s' %txt)\n",
    "    plt.tight_layout()\n",
    "    plt.show()"
   ]
  },
  {
   "cell_type": "code",
   "execution_count": 55,
   "metadata": {},
   "outputs": [
    {
     "data": {
      "image/png": "[encoded data removed]",
      "text/plain": [
       "<Figure size 1080x360 with 6 Axes>"
      ]
     },
     "metadata": {},
     "output_type": "display_data"
    }
   ],
   "source": [
    "K_series = np.append(Kbar, K_f_series[:-1])\n",
    "Y_series = np.exp(Z_series)*K_series**theta*H_series**(1-theta)\n",
    "I_series = K_f_series - (1-delta)*K_series\n",
    "C_series = Y_series - I_series\n",
    "Y_H_series = Y_series/H_series\n",
    "R_series = Y_series/K_series*theta-delta\n",
    "\n",
    "\n",
    "plot_irf(' to the positive 1 std. Z shock')"
   ]
  },
  {
   "cell_type": "code",
   "execution_count": 56,
   "metadata": {},
   "outputs": [
    {
     "data": {
      "image/png": "[encoded data removed]",
      "text/plain": [
       "<Figure size 432x288 with 1 Axes>"
      ]
     },
     "metadata": {},
     "output_type": "display_data"
    }
   ],
   "source": [
    "# Simulation\n",
    "Zt_pre = Zbar\n",
    "Kt_pre = Kbar\n",
    "periods = 220\n",
    "\n",
    "Z_shocks = np.random.normal(0,sigma,periods)\n",
    "K_f_series = np.zeros(periods)\n",
    "H_series = np.zeros(periods)\n",
    "Z_series = np.zeros(periods)\n",
    "\n",
    "for t in range(periods):\n",
    "    Zt_pre = (1-rho)*Zbar + rho*Zt_pre + Z_shocks[t]\n",
    "    d_t = policy_f @ np.array([1,Zt_pre,Kt_pre])[:,np.newaxis]\n",
    "    Kt_pre = d_t[0]\n",
    "    H_series[t] = d_t[1]\n",
    "    K_f_series[t] = Kt_pre\n",
    "    Z_series[t] = Zt_pre\n",
    "\n",
    "\n",
    "K_series = np.append(Kbar, K_f_series[:-1])\n",
    "Y_series = np.exp(Z_series)*K_series**theta*H_series**(1-theta)\n",
    "I_series = K_f_series - (1-delta)*K_series\n",
    "C_series = Y_series - I_series\n",
    "Y_H_series = Y_series/H_series\n",
    "R_series = Y_series/K_series*theta-delta\n",
    "\n",
    "K_series,_ = sm.tsa.filters.hpfilter(np.log(K_series), 1600)\n",
    "Y_series,_ = sm.tsa.filters.hpfilter(np.log(Y_series), 1600)\n",
    "I_series,_ = sm.tsa.filters.hpfilter(np.log(I_series), 1600)\n",
    "C_series,_ = sm.tsa.filters.hpfilter(np.log(C_series), 1600)\n",
    "H_series,_ = sm.tsa.filters.hpfilter(np.log(H_series), 1600)\n",
    "Y_H_series,_ = sm.tsa.filters.hpfilter(np.log(Y_H_series), 1600)\n",
    "R_series,_ = sm.tsa.filters.hpfilter(np.log(R_series), 1600)\n",
    "\n",
    "plt.scatter(Y_H_series*100, Y_series*100, s=10)\n",
    "plt.title('Chart4. The Indivisible Labor Model')\n",
    "plt.show()"
   ]
  },
  {
   "cell_type": "code",
   "execution_count": 57,
   "metadata": {},
   "outputs": [
    {
     "name": "stdout",
     "output_type": "stream",
     "text": [
      "% S.D of Y : 1.76\n",
      "S.D of C vs Y : 0.29\n",
      "S.D of I vs Y : 3.24\n",
      "S.D of H vs Y : 0.76\n",
      "S.D of Y_H vs Y : 0.29\n",
      "S.D of H vs Y_H : 2.63\n",
      "Corr(H, Y_H)    : 0.77\n"
     ]
    }
   ],
   "source": [
    "# Repeat Simulation\n",
    "rep = 100\n",
    "periods = 240\n",
    "\n",
    "Z_shocks = np.random.normal(0,sigma,(rep,periods))\n",
    "K_f_series = np.zeros((rep,periods))\n",
    "H_series = np.zeros((rep,periods))\n",
    "Z_series = np.zeros((rep,periods))\n",
    "\n",
    "for rr in range(rep):\n",
    "    Zt_pre = Zbar\n",
    "    Kt_pre = Kbar\n",
    "    for t in range(periods):\n",
    "        Zt_pre = (1-rho)*Zbar + rho*Zt_pre + Z_shocks[rr, t]\n",
    "        d_t = policy_f @ np.array([1,Zt_pre,Kt_pre])[:,np.newaxis]\n",
    "        Kt_pre = d_t[0]\n",
    "        H_series[rr,t] = d_t[1]\n",
    "        K_f_series[rr,t] = Kt_pre\n",
    "        Z_series[rr,t] = Zt_pre\n",
    "\n",
    "K_series = np.append(np.ones((rep,1))*Kbar, K_f_series[:,:-1], axis=1)\n",
    "Y_series = np.exp(Z_series)*K_series**theta*H_series**(1-theta)\n",
    "I_series = K_f_series - (1-delta)*K_series\n",
    "C_series = Y_series - I_series\n",
    "Y_H_series = Y_series/H_series\n",
    "R_series = Y_series/K_series*theta-delta\n",
    "\n",
    "simdata = {}; sim_sd={}\n",
    "simlist = ['Y','C','I','H','Y_H','R']\n",
    "varseries = [Y_series, C_series, I_series, H_series, Y_H_series, R_series]\n",
    "for i, ser in enumerate(varseries):\n",
    "    for rr in range(rep):\n",
    "        cycle,_ = sm.tsa.filters.hpfilter(np.log(ser[rr,:]), 1600)\n",
    "        ser[rr,:] = cycle\n",
    "    simdata[simlist[i]] = np.mean(ser, axis=0)\n",
    "    sim_sd[simlist[i]] = np.mean(np.std(ser, axis=1))\n",
    "\n",
    "for rr in range(rep):\n",
    "    if rr==0:\n",
    "        stat = Stat(pd.DataFrame({simlist[i]:varseries[i][rr,:] for i in range(len(simlist))}))\n",
    "    else:\n",
    "        tmp = Stat(pd.DataFrame({simlist[i]:varseries[i][rr,:] for i in range(len(simlist))}))\n",
    "        stat += tmp\n",
    "stat= stat/rep\n",
    "stat= stat.round(2)\n",
    "\n",
    "corr_h_w = np.zeros(rep)\n",
    "for rr in range(rep):\n",
    "    corr_h_w[rr] = np.corrcoef(H_series[rr,:], Y_H_series[rr,:])[0,1]\n",
    "    \n",
    "print('%% S.D of Y : %0.2f' % (sim_sd['Y']*100))\n",
    "print('S.D of C vs Y : %0.2f' % (sim_sd['C']/sim_sd['Y']))\n",
    "print('S.D of I vs Y : %0.2f' % (sim_sd['I']/sim_sd['Y']))\n",
    "print('S.D of H vs Y : %0.2f' % (sim_sd['H']/sim_sd['Y']))\n",
    "print('S.D of Y_H vs Y : %0.2f' % (sim_sd['Y_H']/sim_sd['Y']))\n",
    "print('S.D of H vs Y_H : %0.2f' % (sim_sd['H']/sim_sd['Y_H']))\n",
    "print('Corr(H, Y_H)    : %0.2f' % (np.mean(corr_h_w)))"
   ]
  },
  {
   "cell_type": "code",
   "execution_count": 58,
   "metadata": {},
   "outputs": [
    {
     "data": {
      "text/html": [
       "<div>\n",
       "<style scoped>\n",
       "    .dataframe tbody tr th:only-of-type {\n",
       "        vertical-align: middle;\n",
       "    }\n",
       "\n",
       "    .dataframe tbody tr th {\n",
       "        vertical-align: top;\n",
       "    }\n",
       "\n",
       "    .dataframe thead th {\n",
       "        text-align: right;\n",
       "    }\n",
       "</style>\n",
       "<table border=\"1\" class=\"dataframe\">\n",
       "  <thead>\n",
       "    <tr style=\"text-align: right;\">\n",
       "      <th></th>\n",
       "      <th>SD</th>\n",
       "      <th>RelativeSD</th>\n",
       "      <th>Autocorr</th>\n",
       "      <th>CrossCorr-2</th>\n",
       "      <th>CrossCorr-1</th>\n",
       "      <th>CrossCorr</th>\n",
       "      <th>CrossCorr+1</th>\n",
       "      <th>CrossCorr+2</th>\n",
       "    </tr>\n",
       "  </thead>\n",
       "  <tbody>\n",
       "    <tr>\n",
       "      <th>Y</th>\n",
       "      <td>1.76</td>\n",
       "      <td>1.00</td>\n",
       "      <td>0.70</td>\n",
       "      <td>0.45</td>\n",
       "      <td>0.70</td>\n",
       "      <td>1.00</td>\n",
       "      <td>0.70</td>\n",
       "      <td>0.45</td>\n",
       "    </tr>\n",
       "    <tr>\n",
       "      <th>C</th>\n",
       "      <td>0.52</td>\n",
       "      <td>0.29</td>\n",
       "      <td>0.80</td>\n",
       "      <td>0.22</td>\n",
       "      <td>0.51</td>\n",
       "      <td>0.86</td>\n",
       "      <td>0.76</td>\n",
       "      <td>0.64</td>\n",
       "    </tr>\n",
       "    <tr>\n",
       "      <th>I</th>\n",
       "      <td>5.71</td>\n",
       "      <td>3.24</td>\n",
       "      <td>0.69</td>\n",
       "      <td>0.49</td>\n",
       "      <td>0.72</td>\n",
       "      <td>0.99</td>\n",
       "      <td>0.65</td>\n",
       "      <td>0.38</td>\n",
       "    </tr>\n",
       "    <tr>\n",
       "      <th>H</th>\n",
       "      <td>1.34</td>\n",
       "      <td>0.76</td>\n",
       "      <td>0.69</td>\n",
       "      <td>0.51</td>\n",
       "      <td>0.73</td>\n",
       "      <td>0.98</td>\n",
       "      <td>0.63</td>\n",
       "      <td>0.35</td>\n",
       "    </tr>\n",
       "    <tr>\n",
       "      <th>Y_H</th>\n",
       "      <td>0.51</td>\n",
       "      <td>0.29</td>\n",
       "      <td>0.81</td>\n",
       "      <td>0.23</td>\n",
       "      <td>0.51</td>\n",
       "      <td>0.87</td>\n",
       "      <td>0.76</td>\n",
       "      <td>0.64</td>\n",
       "    </tr>\n",
       "    <tr>\n",
       "      <th>R</th>\n",
       "      <td>6.30</td>\n",
       "      <td>3.57</td>\n",
       "      <td>0.69</td>\n",
       "      <td>0.52</td>\n",
       "      <td>0.73</td>\n",
       "      <td>0.96</td>\n",
       "      <td>0.59</td>\n",
       "      <td>0.30</td>\n",
       "    </tr>\n",
       "  </tbody>\n",
       "</table>\n",
       "</div>"
      ],
      "text/plain": [
       "       SD  RelativeSD  Autocorr  CrossCorr-2  CrossCorr-1  CrossCorr  \\\n",
       "Y    1.76        1.00      0.70         0.45         0.70       1.00   \n",
       "C    0.52        0.29      0.80         0.22         0.51       0.86   \n",
       "I    5.71        3.24      0.69         0.49         0.72       0.99   \n",
       "H    1.34        0.76      0.69         0.51         0.73       0.98   \n",
       "Y_H  0.51        0.29      0.81         0.23         0.51       0.87   \n",
       "R    6.30        3.57      0.69         0.52         0.73       0.96   \n",
       "\n",
       "     CrossCorr+1  CrossCorr+2  \n",
       "Y           0.70         0.45  \n",
       "C           0.76         0.64  \n",
       "I           0.65         0.38  \n",
       "H           0.63         0.35  \n",
       "Y_H         0.76         0.64  \n",
       "R           0.59         0.30  "
      ]
     },
     "execution_count": 58,
     "metadata": {},
     "output_type": "execute_result"
    }
   ],
   "source": [
    "stat"
   ]
  },
  {
   "cell_type": "code",
   "execution_count": null,
   "metadata": {},
   "outputs": [],
   "source": []
  },
  {
   "cell_type": "markdown",
   "metadata": {
    "slideshow": {
     "slide_type": "slide"
    }
   },
   "source": [
    "### 4. Government spending shock"
   ]
  },
  {
   "cell_type": "markdown",
   "metadata": {
    "slideshow": {
     "slide_type": "subslide"
    }
   },
   "source": [
    "Set parameters "
   ]
  },
  {
   "cell_type": "code",
   "execution_count": 59,
   "metadata": {},
   "outputs": [],
   "source": [
    "beta = 0.99; theta = 0.36; delta = 0.025; rho = 0.95; sigma = 0.007\n",
    "lamb = 0.96; sigma_v = 0.021"
   ]
  },
  {
   "cell_type": "markdown",
   "metadata": {
    "slideshow": {
     "slide_type": "subslide"
    }
   },
   "source": [
    "Solve for Steady State"
   ]
  },
  {
   "cell_type": "code",
   "execution_count": 60,
   "metadata": {},
   "outputs": [
    {
     "name": "stdout",
     "output_type": "stream",
     "text": [
      "Kbar: 12.66\n",
      "Ybar: 1.23\n",
      "Gbar: -1.30\n",
      "Cbar: 0.65\n",
      "Zbar: 0.00\n",
      "mu  : 2.44\n"
     ]
    }
   ],
   "source": [
    "Hbar = 1/3\n",
    "Kbar = (Hbar**(theta-1)*(1/beta -(1-delta))/theta)**(1/(theta-1))\n",
    "Zbar = 0\n",
    "Ybar = np.exp(Zbar)*Kbar**theta*Hbar**(1-theta)\n",
    "Gbar = np.log(0.22*Ybar)\n",
    "Cbar = Ybar - delta*Kbar - np.exp(Gbar)\n",
    "mu = (1-Hbar)*np.exp(Zbar)*(1-theta)*Ybar/Hbar/Cbar\n",
    "print('Kbar: %0.2f' %Kbar)\n",
    "print('Ybar: %0.2f' %Ybar)\n",
    "print('Gbar: %0.2f' %Gbar)\n",
    "print('Cbar: %0.2f' %Cbar)\n",
    "print('Zbar: %0.2f' %Zbar)\n",
    "print('mu  : %0.2f' %mu)"
   ]
  },
  {
   "cell_type": "code",
   "execution_count": 61,
   "metadata": {},
   "outputs": [],
   "source": [
    "def fnU(var): # solve for utility fn. value given Wmat\n",
    "    [Z, G, K, K_, H] = var\n",
    "    return np.log( np.exp(Z)*K**theta*H**(1-theta)+(1-delta)*K - K_ -np.exp(G)) + mu*np.log(1-H)"
   ]
  },
  {
   "cell_type": "code",
   "execution_count": 62,
   "metadata": {},
   "outputs": [
    {
     "data": {
      "text/plain": [
       "-1.4274270474446076"
      ]
     },
     "execution_count": 62,
     "metadata": {},
     "output_type": "execute_result"
    }
   ],
   "source": [
    "fnU([Zbar, Gbar, Kbar, Kbar, Hbar])"
   ]
  },
  {
   "cell_type": "code",
   "execution_count": 63,
   "metadata": {},
   "outputs": [
    {
     "data": {
      "text/plain": [
       "array([[ -4.77152316,   1.87909924,  -0.8972891 ,   2.31855585,\n",
       "         -2.2953611 ,   4.52459348],\n",
       "       [  1.87909924,  -0.86884056,   0.40123432,  -1.4649032 ,\n",
       "          1.47713064,  -1.66821196],\n",
       "       [ -0.8972891 ,   0.40123432,  -0.29835467,   0.32825104,\n",
       "         -0.32496866,   0.77037016],\n",
       "       [  2.31855585,  -1.4649032 ,   0.32825104,  -1.22202581,\n",
       "          1.20844529,  -2.8126132 ],\n",
       "       [ -2.2953611 ,   1.47713064,  -0.32496866,   1.20844529,\n",
       "         -1.19635968,   2.83609053],\n",
       "       [  4.52459348,  -1.66821196,   0.77037016,  -2.8126132 ,\n",
       "          2.83609053, -11.45357142]])"
      ]
     },
     "execution_count": 63,
     "metadata": {},
     "output_type": "execute_result"
    }
   ],
   "source": [
    "# Make Q\n",
    "Wbar = np.array([Zbar, Gbar, Kbar, Kbar, Hbar])[:,np.newaxis]\n",
    "Rmat = fnU(list(Wbar))\n",
    "Jmat, Hmat = fnJH(fnU, list(Wbar))\n",
    "\n",
    "Q11 = Rmat -Wbar.T@Jmat +Wbar.T@Hmat@Wbar/2\n",
    "Q12 = (Jmat-Hmat@Wbar)/2\n",
    "Q22 = Hmat/2\n",
    "Q = np.concatenate((np.concatenate((Q11,Q12.T),axis=1),np.concatenate((Q12,Q22),axis=1)),axis=0)\n",
    "Q"
   ]
  },
  {
   "cell_type": "code",
   "execution_count": 64,
   "metadata": {},
   "outputs": [],
   "source": [
    "# Number of variables\n",
    "l_exo = 2\n",
    "l_state = 1\n",
    "l_f = 1+ l_exo+l_state\n",
    "l_d = 2\n",
    "l_all = l_f+l_d"
   ]
  },
  {
   "cell_type": "code",
   "execution_count": 65,
   "metadata": {},
   "outputs": [
    {
     "name": "stdout",
     "output_type": "stream",
     "text": [
      "[[ 1.          0.          0.          0.          0.          0.        ]\n",
      " [ 0.          0.95        0.          0.          0.          0.        ]\n",
      " [-0.05213243  0.          0.96        0.          0.          0.        ]\n",
      " [ 0.          0.          0.          0.          1.          0.        ]]\n"
     ]
    }
   ],
   "source": [
    "# Make B\n",
    "B = np.zeros((l_f ,l_f+l_d))\n",
    "B[0,0] =1\n",
    "B[np.arange(1,l_exo+1),np.arange(1,l_exo+1)] = [rho, lamb]\n",
    "B[1:1+l_exo,0] = [(1-rho)*Zbar, (1-lamb)*Gbar]\n",
    "B[np.arange(1+l_exo,1+l_exo+l_state), np.arange(1+l_exo+l_state,1+l_exo+l_state+l_state)]=1\n",
    "print(B)"
   ]
  },
  {
   "cell_type": "code",
   "execution_count": 66,
   "metadata": {
    "scrolled": true
   },
   "outputs": [
    {
     "name": "stdout",
     "output_type": "stream",
     "text": [
      "Total number of iterations: 965\n",
      "Total running time: 0.060 seconds\n",
      "       \n"
     ]
    },
    {
     "data": {
      "text/plain": [
       "array([[ 0.50076763,  1.32740888, -0.04167624,  0.95616513],\n",
       "       [ 0.51903599,  0.18303809,  0.05694054, -0.00880445]])"
      ]
     },
     "execution_count": 66,
     "metadata": {},
     "output_type": "execute_result"
    }
   ],
   "source": [
    "tol = 0.0001\n",
    "\n",
    "P0 = np.ones((l_f,l_f))\n",
    "#P0 = np.zeros((l_f,l_f))\n",
    "Ppre = P0\n",
    "\n",
    "start_time = time.time()\n",
    "for i in range(2000):\n",
    "    Msigma = np.zeros((B.shape[1],B.shape[1]))\n",
    "    Msigma[0,0] = np.trace(Ppre[1:1+l_exo, 1:1+l_exo]@(np.identity(2)@np.array([[sigma**2], [sigma_v**2]])))\n",
    "    #If there are more than 2 exo shocks, then modify above line\n",
    "\n",
    "    M = B.T@Ppre@B + Msigma\n",
    "    #M\n",
    "    \n",
    "    P = Q[:l_f,:l_f] + beta*M[:l_f,:l_f] -((Q[:l_f,l_f:]+beta*M[:l_f,l_f:]) @ np.linalg.inv(Q[l_f:,l_f:]+beta*M[l_f:,l_f:]) @\\\n",
    "        (Q[:l_f,l_f:]+beta*M[:l_f,l_f:]).T)\n",
    "    dist = np.max(np.abs(P.flatten() - Ppre.flatten()))\n",
    "    if dist < tol:\n",
    "        print('Total number of iterations: %d' %(i+1))\n",
    "        print('Total running time: %0.3f seconds' % (time.time() - start_time))\n",
    "        print('       ')\n",
    "        Msigma = np.zeros((B.shape[1],B.shape[1]))\n",
    "        Msigma[0,0] = np.trace(Ppre[1:1+l_exo, 1:1+l_exo]@(np.identity(2)@np.array([[sigma**2], [sigma_v**2]])))\n",
    "        #If there are more than 2 exo shocks, then modify above line\n",
    "        M = B.T@P@B + Msigma\n",
    "        break\n",
    "    Ppre = P\n",
    "    if (i+1)%1000 ==0:\n",
    "        print('%d times running' %(i+1))\n",
    "        print('Iteration gap : %0.3f' %(dist))\n",
    "        if i==1999:\n",
    "            print('The maximum iteration number has reached')\n",
    "            print('Total running time: %0.3f seconds' % (time.time() - start_time))\n",
    "            print('       ')\n",
    "\n",
    "policy_f = -np.linalg.inv(Q[l_f:,l_f:]+beta*M[l_f:,l_f:]) @ (Q[:l_f,l_f:]+beta*M[:l_f,l_f:]).T\n",
    "policy_f # policy fn. shape(d,s)"
   ]
  },
  {
   "cell_type": "code",
   "execution_count": 67,
   "metadata": {},
   "outputs": [
    {
     "name": "stdout",
     "output_type": "stream",
     "text": [
      "[[12.66308451]\n",
      " [ 0.33333333]]\n",
      "[1, 0, -1.3033108267808444, 12.663084512717404, 0.3333333333333333]\n"
     ]
    }
   ],
   "source": [
    "print(policy_f @ np.array([1,Zbar,Gbar,Kbar])[:,np.newaxis])\n",
    "print([1,Zbar,Gbar,Kbar,Hbar])"
   ]
  },
  {
   "cell_type": "code",
   "execution_count": 68,
   "metadata": {},
   "outputs": [],
   "source": [
    "def plot_irf(txt):\n",
    "    fig = plt.figure(figsize=(15, 5))\n",
    "    plt.subplot(231)\n",
    "    plt.plot(np.arange(220),Y_series)\n",
    "    plt.title('Y%s' %txt)\n",
    "    plt.subplot(232)\n",
    "    plt.plot(np.arange(220),C_series)\n",
    "    plt.title('C%s' %txt)\n",
    "    plt.subplot(233)\n",
    "    plt.plot(np.arange(220),I_series)\n",
    "    plt.title('I%s' %txt)\n",
    "    plt.subplot(234)\n",
    "    plt.plot(np.arange(220),K_series)\n",
    "    plt.title('K%s' %txt)\n",
    "    plt.subplot(235)\n",
    "    plt.plot(np.arange(220),Y_H_series)\n",
    "    plt.title('Y/H%s' %txt)\n",
    "    plt.subplot(236)\n",
    "    plt.plot(np.arange(220),R_series)\n",
    "    plt.title('R%s' %txt)\n",
    "    plt.tight_layout()\n",
    "    plt.show()"
   ]
  },
  {
   "cell_type": "code",
   "execution_count": 69,
   "metadata": {},
   "outputs": [
    {
     "data": {
      "image/png": "[encoded data removed]",
      "text/plain": [
       "<Figure size 1080x360 with 6 Axes>"
      ]
     },
     "metadata": {},
     "output_type": "display_data"
    },
    {
     "data": {
      "image/png": "[encoded data removed]",
      "text/plain": [
       "<Figure size 1080x360 with 6 Axes>"
      ]
     },
     "metadata": {},
     "output_type": "display_data"
    }
   ],
   "source": [
    "# Impulse response to Z innovation size 1\n",
    "Zt_pre = Zbar\n",
    "Gt_pre = Gbar\n",
    "Kt_pre = Kbar\n",
    "periods = 220\n",
    "\n",
    "Z_shocks = np.array([1*sigma]+[0]*(periods-1))\n",
    "G_shocks = np.array([0]+[0]*(periods-1))\n",
    "\n",
    "K_f_series = np.zeros(periods); H_series = np.zeros(periods)\n",
    "Z_series = np.zeros(periods); G_series = np.zeros(periods)\n",
    "for t in range(periods):\n",
    "    Zt_pre = (1-rho)*Zbar + rho*Zt_pre + Z_shocks[t]\n",
    "    Gt_pre = (1-lamb)*Gbar + lamb*Gt_pre + G_shocks[t]\n",
    "    d_t = policy_f @ np.array([1,Zt_pre,Gt_pre,Kt_pre])[:,np.newaxis]\n",
    "    Kt_pre = d_t[0]\n",
    "    H_series[t] = d_t[1]\n",
    "    K_f_series[t] = Kt_pre\n",
    "    Z_series[t] = Zt_pre\n",
    "    G_series[t] = Gt_pre\n",
    "\n",
    "K_series = np.append(Kbar, K_f_series[:-1])\n",
    "Y_series = np.exp(Z_series)*K_series**theta*H_series**(1-theta)\n",
    "I_series = K_f_series - (1-delta)*K_series\n",
    "C_series = Y_series - I_series - np.exp(G_series)\n",
    "Y_H_series = Y_series/H_series\n",
    "R_series = Y_series/K_series*theta-delta\n",
    "plot_irf(' to the positive 1 std. Z shock')   \n",
    "\n",
    "# Impulse response to G innovation size 1\n",
    "Zt_pre = Zbar\n",
    "Gt_pre = Gbar\n",
    "Kt_pre = Kbar\n",
    "\n",
    "Z_shocks = np.array([0]+[0]*(periods-1))\n",
    "G_shocks = np.array([1*sigma_v]+[0]*(periods-1))\n",
    "\n",
    "K_f_series = np.zeros(periods); H_series = np.zeros(periods)\n",
    "Z_series = np.zeros(periods); G_series = np.zeros(periods)\n",
    "for t in range(periods):\n",
    "    Zt_pre = (1-rho)*Zbar + rho*Zt_pre + Z_shocks[t]\n",
    "    Gt_pre = (1-lamb)*Gbar + lamb*Gt_pre + G_shocks[t]\n",
    "    d_t = policy_f @ np.array([1,Zt_pre,Gt_pre,Kt_pre])[:,np.newaxis]\n",
    "    Kt_pre = d_t[0]\n",
    "    H_series[t] = d_t[1]\n",
    "    K_f_series[t] = Kt_pre\n",
    "    Z_series[t] = Zt_pre\n",
    "    G_series[t] = Gt_pre\n",
    "\n",
    "K_series = np.append(Kbar, K_f_series[:-1])\n",
    "Y_series = np.exp(Z_series)*K_series**theta*H_series**(1-theta)\n",
    "I_series = K_f_series - (1-delta)*K_series\n",
    "C_series = Y_series - I_series - np.exp(G_series)\n",
    "Y_H_series = Y_series/H_series\n",
    "R_series = Y_series/K_series*theta-delta\n",
    "plot_irf(' to the positive 1 std. G shock'  ) "
   ]
  },
  {
   "cell_type": "code",
   "execution_count": 70,
   "metadata": {},
   "outputs": [
    {
     "data": {
      "image/png": "[encoded data removed]",
      "text/plain": [
       "<Figure size 432x288 with 1 Axes>"
      ]
     },
     "metadata": {},
     "output_type": "display_data"
    }
   ],
   "source": [
    "# Simulation(Without Z shock)\n",
    "Zt_pre = Zbar\n",
    "Gt_pre = Gbar\n",
    "Kt_pre = Kbar\n",
    "periods = 220\n",
    "\n",
    "#Z_shocks = np.random.normal(0,sigma,periods)\n",
    "Z_shocks = np.zeros(periods)\n",
    "G_shocks = np.random.normal(0,sigma_v,periods)\n",
    "K_f_series = np.zeros(periods)\n",
    "H_series = np.zeros(periods)\n",
    "Z_series = np.zeros(periods)\n",
    "G_series = np.zeros(periods)\n",
    "\n",
    "for t in range(periods):\n",
    "    Zt_pre = (1-rho)*Zbar + rho*Zt_pre + Z_shocks[t]\n",
    "    Gt_pre = (1-lamb)*Gbar + lamb*Gt_pre + G_shocks[t]\n",
    "    d_t = policy_f @ np.array([1,Zt_pre,Gt_pre,Kt_pre])[:,np.newaxis]\n",
    "    Kt_pre = d_t[0]\n",
    "    H_series[t] = d_t[1]\n",
    "    K_f_series[t] = Kt_pre\n",
    "    Z_series[t] = Zt_pre\n",
    "    G_series[t] = Gt_pre\n",
    "\n",
    "\n",
    "K_series = np.append(Kbar, K_f_series[:-1])\n",
    "Y_series = np.exp(Z_series)*K_series**theta*H_series**(1-theta)\n",
    "I_series = K_f_series - (1-delta)*K_series\n",
    "C_series = Y_series - I_series - np.exp(G_series)\n",
    "Y_H_series = Y_series/H_series\n",
    "R_series = Y_series/K_series*theta-delta\n",
    "\n",
    "K_series,_ = sm.tsa.filters.hpfilter(np.log(K_series), 1600)\n",
    "Y_series,_ = sm.tsa.filters.hpfilter(np.log(Y_series), 1600)\n",
    "I_series,_ = sm.tsa.filters.hpfilter(np.log(I_series), 1600)\n",
    "C_series,_ = sm.tsa.filters.hpfilter(np.log(C_series), 1600)\n",
    "H_series,_ = sm.tsa.filters.hpfilter(np.log(H_series), 1600)\n",
    "Y_H_series,_ = sm.tsa.filters.hpfilter(np.log(Y_H_series), 1600)\n",
    "R_series,_ = sm.tsa.filters.hpfilter(np.log(R_series), 1600)\n",
    "\n",
    "plt.scatter(Y_H_series*100, Y_series*100, s=10)\n",
    "plt.title('Chart5. The Government Spending Model Without Technology Shocks')\n",
    "plt.show()"
   ]
  },
  {
   "cell_type": "code",
   "execution_count": 71,
   "metadata": {},
   "outputs": [
    {
     "data": {
      "image/png": "[encoded data removed]",
      "text/plain": [
       "<Figure size 432x288 with 1 Axes>"
      ]
     },
     "metadata": {},
     "output_type": "display_data"
    }
   ],
   "source": [
    "# Simulation(With Z shock)\n",
    "Zt_pre = Zbar\n",
    "Gt_pre = Gbar\n",
    "Kt_pre = Kbar\n",
    "periods = 220\n",
    "\n",
    "Z_shocks = np.random.normal(0,sigma,periods)\n",
    "#Z_shocks = np.zeros(periods)\n",
    "G_shocks = np.random.normal(0,sigma_v,periods)\n",
    "K_f_series = np.zeros(periods)\n",
    "H_series = np.zeros(periods)\n",
    "Z_series = np.zeros(periods)\n",
    "G_series = np.zeros(periods)\n",
    "\n",
    "for t in range(periods):\n",
    "    Zt_pre = (1-rho)*Zbar + rho*Zt_pre + Z_shocks[t]\n",
    "    Gt_pre = (1-lamb)*Gbar + lamb*Gt_pre + G_shocks[t]\n",
    "    d_t = policy_f @ np.array([1,Zt_pre,Gt_pre,Kt_pre])[:,np.newaxis]\n",
    "    Kt_pre = d_t[0]\n",
    "    H_series[t] = d_t[1]\n",
    "    K_f_series[t] = Kt_pre\n",
    "    Z_series[t] = Zt_pre\n",
    "    G_series[t] = Gt_pre\n",
    "\n",
    "\n",
    "K_series = np.append(Kbar, K_f_series[:-1])\n",
    "Y_series = np.exp(Z_series)*K_series**theta*H_series**(1-theta)\n",
    "I_series = K_f_series - (1-delta)*K_series\n",
    "C_series = Y_series - I_series - np.exp(G_series)\n",
    "Y_H_series = Y_series/H_series\n",
    "R_series = Y_series/K_series*theta-delta\n",
    "\n",
    "K_series,_ = sm.tsa.filters.hpfilter(np.log(K_series), 1600)\n",
    "Y_series,_ = sm.tsa.filters.hpfilter(np.log(Y_series), 1600)\n",
    "I_series,_ = sm.tsa.filters.hpfilter(np.log(I_series), 1600)\n",
    "C_series,_ = sm.tsa.filters.hpfilter(np.log(C_series), 1600)\n",
    "H_series,_ = sm.tsa.filters.hpfilter(np.log(H_series), 1600)\n",
    "Y_H_series,_ = sm.tsa.filters.hpfilter(np.log(Y_H_series), 1600)\n",
    "R_series,_ = sm.tsa.filters.hpfilter(np.log(R_series), 1600)\n",
    "\n",
    "plt.scatter(Y_H_series*100, Y_series*100, s=10)\n",
    "plt.title('Chart6. The Government Spending Model With Technology Shocks')\n",
    "plt.show()"
   ]
  },
  {
   "cell_type": "code",
   "execution_count": 72,
   "metadata": {},
   "outputs": [
    {
     "name": "stdout",
     "output_type": "stream",
     "text": [
      "% S.D of Y : 1.24\n",
      "S.D of C vs Y : 0.53\n",
      "S.D of I vs Y : 3.05\n",
      "S.D of H vs Y : 0.55\n",
      "S.D of Y_H vs Y : 0.61\n",
      "S.D of H vs Y_H : 0.90\n",
      "Corr(H, Y_H)    : 0.50\n"
     ]
    }
   ],
   "source": [
    "# Repeat Simulation\n",
    "rep = 100\n",
    "periods = 240\n",
    "\n",
    "Z_shocks = np.random.normal(0,sigma,(rep,periods))\n",
    "G_shocks = np.random.normal(0,sigma_v,(rep,periods))\n",
    "K_f_series = np.zeros((rep,periods))\n",
    "H_series = np.zeros((rep,periods))\n",
    "Z_series = np.zeros((rep,periods))\n",
    "G_series = np.zeros((rep,periods))\n",
    "\n",
    "for rr in range(rep):\n",
    "    Zt_pre = Zbar\n",
    "    Gt_pre = Gbar\n",
    "    Kt_pre = Kbar\n",
    "    for t in range(periods):\n",
    "        Zt_pre = (1-rho)*Zbar + rho*Zt_pre + Z_shocks[rr, t]\n",
    "        Gt_pre = (1-lamb)*Gbar + lamb*Gt_pre + G_shocks[rr, t]\n",
    "        d_t = policy_f @ np.array([1,Zt_pre,Gt_pre,Kt_pre])[:,np.newaxis]\n",
    "        Kt_pre = d_t[0]\n",
    "        H_series[rr,t] = d_t[1]\n",
    "        K_f_series[rr,t] = Kt_pre\n",
    "        Z_series[rr,t] = Zt_pre\n",
    "        G_series[rr,t] = Gt_pre\n",
    "\n",
    "K_series = np.append(np.ones((rep,1))*Kbar, K_f_series[:,:-1], axis=1)\n",
    "Y_series = np.exp(Z_series)*K_series**theta*H_series**(1-theta)\n",
    "I_series = K_f_series - (1-delta)*K_series\n",
    "C_series = Y_series - I_series - np.exp(G_series)\n",
    "Y_H_series = Y_series/H_series\n",
    "R_series = Y_series/K_series*theta-delta\n",
    "\n",
    "simdata = {}; sim_sd={}\n",
    "simlist = ['Y','C','I','H','Y_H','R']\n",
    "varseries = [Y_series, C_series, I_series, H_series, Y_H_series, R_series]\n",
    "for i, ser in enumerate(varseries):\n",
    "    for rr in range(rep):\n",
    "        cycle,_ = sm.tsa.filters.hpfilter(np.log(ser[rr,:]), 1600)\n",
    "        ser[rr,:] = cycle\n",
    "    simdata[simlist[i]] = np.mean(ser, axis=0)\n",
    "    sim_sd[simlist[i]] = np.mean(np.std(ser, axis=1))\n",
    "\n",
    "for rr in range(rep):\n",
    "    if rr==0:\n",
    "        stat = Stat(pd.DataFrame({simlist[i]:varseries[i][rr,:] for i in range(len(simlist))}))\n",
    "    else:\n",
    "        tmp = Stat(pd.DataFrame({simlist[i]:varseries[i][rr,:] for i in range(len(simlist))}))\n",
    "        stat += tmp\n",
    "stat= stat/rep\n",
    "stat= stat.round(2)\n",
    "\n",
    "corr_h_w = np.zeros(rep)\n",
    "for rr in range(rep):\n",
    "    corr_h_w[rr] = np.corrcoef(H_series[rr,:], Y_H_series[rr,:])[0,1]\n",
    "    \n",
    "print('%% S.D of Y : %0.2f' % (sim_sd['Y']*100))\n",
    "print('S.D of C vs Y : %0.2f' % (sim_sd['C']/sim_sd['Y']))\n",
    "print('S.D of I vs Y : %0.2f' % (sim_sd['I']/sim_sd['Y']))\n",
    "print('S.D of H vs Y : %0.2f' % (sim_sd['H']/sim_sd['Y']))\n",
    "print('S.D of Y_H vs Y : %0.2f' % (sim_sd['Y_H']/sim_sd['Y']))\n",
    "print('S.D of H vs Y_H : %0.2f' % (sim_sd['H']/sim_sd['Y_H']))\n",
    "print('Corr(H, Y_H)    : %0.2f' % (np.mean(corr_h_w)))"
   ]
  },
  {
   "cell_type": "code",
   "execution_count": 73,
   "metadata": {},
   "outputs": [
    {
     "data": {
      "text/html": [
       "<div>\n",
       "<style scoped>\n",
       "    .dataframe tbody tr th:only-of-type {\n",
       "        vertical-align: middle;\n",
       "    }\n",
       "\n",
       "    .dataframe tbody tr th {\n",
       "        vertical-align: top;\n",
       "    }\n",
       "\n",
       "    .dataframe thead th {\n",
       "        text-align: right;\n",
       "    }\n",
       "</style>\n",
       "<table border=\"1\" class=\"dataframe\">\n",
       "  <thead>\n",
       "    <tr style=\"text-align: right;\">\n",
       "      <th></th>\n",
       "      <th>SD</th>\n",
       "      <th>RelativeSD</th>\n",
       "      <th>Autocorr</th>\n",
       "      <th>CrossCorr-2</th>\n",
       "      <th>CrossCorr-1</th>\n",
       "      <th>CrossCorr</th>\n",
       "      <th>CrossCorr+1</th>\n",
       "      <th>CrossCorr+2</th>\n",
       "    </tr>\n",
       "  </thead>\n",
       "  <tbody>\n",
       "    <tr>\n",
       "      <th>Y</th>\n",
       "      <td>1.25</td>\n",
       "      <td>1.00</td>\n",
       "      <td>0.70</td>\n",
       "      <td>0.45</td>\n",
       "      <td>0.70</td>\n",
       "      <td>1.00</td>\n",
       "      <td>0.70</td>\n",
       "      <td>0.45</td>\n",
       "    </tr>\n",
       "    <tr>\n",
       "      <th>C</th>\n",
       "      <td>0.67</td>\n",
       "      <td>0.54</td>\n",
       "      <td>0.74</td>\n",
       "      <td>0.15</td>\n",
       "      <td>0.34</td>\n",
       "      <td>0.57</td>\n",
       "      <td>0.48</td>\n",
       "      <td>0.38</td>\n",
       "    </tr>\n",
       "    <tr>\n",
       "      <th>I</th>\n",
       "      <td>3.81</td>\n",
       "      <td>3.05</td>\n",
       "      <td>0.69</td>\n",
       "      <td>0.45</td>\n",
       "      <td>0.67</td>\n",
       "      <td>0.94</td>\n",
       "      <td>0.62</td>\n",
       "      <td>0.37</td>\n",
       "    </tr>\n",
       "    <tr>\n",
       "      <th>H</th>\n",
       "      <td>0.68</td>\n",
       "      <td>0.55</td>\n",
       "      <td>0.70</td>\n",
       "      <td>0.44</td>\n",
       "      <td>0.63</td>\n",
       "      <td>0.85</td>\n",
       "      <td>0.54</td>\n",
       "      <td>0.30</td>\n",
       "    </tr>\n",
       "    <tr>\n",
       "      <th>Y_H</th>\n",
       "      <td>0.76</td>\n",
       "      <td>0.61</td>\n",
       "      <td>0.72</td>\n",
       "      <td>0.33</td>\n",
       "      <td>0.58</td>\n",
       "      <td>0.88</td>\n",
       "      <td>0.66</td>\n",
       "      <td>0.47</td>\n",
       "    </tr>\n",
       "    <tr>\n",
       "      <th>R</th>\n",
       "      <td>4.47</td>\n",
       "      <td>3.59</td>\n",
       "      <td>0.69</td>\n",
       "      <td>0.51</td>\n",
       "      <td>0.72</td>\n",
       "      <td>0.97</td>\n",
       "      <td>0.60</td>\n",
       "      <td>0.31</td>\n",
       "    </tr>\n",
       "  </tbody>\n",
       "</table>\n",
       "</div>"
      ],
      "text/plain": [
       "       SD  RelativeSD  Autocorr  CrossCorr-2  CrossCorr-1  CrossCorr  \\\n",
       "Y    1.25        1.00      0.70         0.45         0.70       1.00   \n",
       "C    0.67        0.54      0.74         0.15         0.34       0.57   \n",
       "I    3.81        3.05      0.69         0.45         0.67       0.94   \n",
       "H    0.68        0.55      0.70         0.44         0.63       0.85   \n",
       "Y_H  0.76        0.61      0.72         0.33         0.58       0.88   \n",
       "R    4.47        3.59      0.69         0.51         0.72       0.97   \n",
       "\n",
       "     CrossCorr+1  CrossCorr+2  \n",
       "Y           0.70         0.45  \n",
       "C           0.48         0.38  \n",
       "I           0.62         0.37  \n",
       "H           0.54         0.30  \n",
       "Y_H         0.66         0.47  \n",
       "R           0.60         0.31  "
      ]
     },
     "execution_count": 73,
     "metadata": {},
     "output_type": "execute_result"
    }
   ],
   "source": [
    "stat"
   ]
  },
  {
   "cell_type": "code",
   "execution_count": null,
   "metadata": {},
   "outputs": [],
   "source": []
  },
  {
   "cell_type": "markdown",
   "metadata": {
    "slideshow": {
     "slide_type": "slide"
    }
   },
   "source": [
    "### 5. Home Production"
   ]
  },
  {
   "cell_type": "markdown",
   "metadata": {
    "slideshow": {
     "slide_type": "subslide"
    }
   },
   "source": [
    "Set parameters "
   ]
  },
  {
   "cell_type": "code",
   "execution_count": 74,
   "metadata": {},
   "outputs": [],
   "source": [
    "beta = 0.99; theta = 0.36; delta = 0.025; rho = 0.95; sigma_m = 0.007\n",
    "sigma_h = 0.007; eta =  0.08; e = 0.8; gamma = 2/3;\n",
    "sigma_mh = gamma*sigma_m*sigma_h"
   ]
  },
  {
   "cell_type": "markdown",
   "metadata": {
    "slideshow": {
     "slide_type": "subslide"
    }
   },
   "source": [
    "Solve for Steady State"
   ]
  },
  {
   "cell_type": "code",
   "execution_count": 75,
   "metadata": {},
   "outputs": [
    {
     "name": "stdout",
     "output_type": "stream",
     "text": [
      "Km/Hmbar: 37.99\n",
      "Kh/Hhbar: 5.87\n",
      "Kmbar   : 12.54\n",
      "Khbar   : 1.64\n",
      "Ymbar: 1.22\n",
      "Yhbar: 0.32\n",
      "Cmbar: 0.87\n",
      "Ch/Y : 0.26\n",
      "a    : 0.35\n",
      "mu   : 0.58\n",
      "Var-Cov matrix :\n",
      "[[4.90000000e-05 3.26666667e-05]\n",
      " [3.26666667e-05 4.90000000e-05]]\n"
     ]
    }
   ],
   "source": [
    "Hmbar = 0.33; Hhbar = 0.28\n",
    "Zmbar = 0; Zhbar = 0\n",
    "K_Hm = ((1/beta-1+delta)/theta/np.exp(Zmbar))**(1/(theta-1))\n",
    "Kmbar = K_Hm*Hmbar\n",
    "#K_Hh = eta*(1-theta)/(1-eta)*np.exp(Zmbar)/np.exp(Zhbar)*(K_Hm**theta)/(1/beta-1+delta)\n",
    "K_Hh = np.exp(Zmbar)/np.exp(Zhbar)/theta/(1-eta)*eta*(1-theta)*K_Hm\n",
    "Khbar = K_Hh*Hhbar\n",
    "\n",
    "Ymbar = np.exp(Zmbar)*Kmbar**theta*Hmbar**(1-theta)\n",
    "Yhbar = np.exp(Zhbar)*Khbar**eta*Hhbar**(1-eta)\n",
    "Cmbar = Ymbar - delta*(Kmbar + Khbar)\n",
    "Chbar = Yhbar\n",
    "\n",
    "#tmp_a = (Chbar/Cmbar)**(e-1)*(1-eta)*Yhbar/Hhbar\n",
    "#a = tmp_a/((1-theta)*Ymbar/Hmbar+tmp_a)\n",
    "tmp_a = eta*K_Hh**(eta-1)\n",
    "a = tmp_a/((1/beta-1+delta)*(Chbar/Cmbar)**(1-e)+tmp_a)\n",
    "Cbar = (a*Cmbar**e + (1-a)*Chbar**e)**(1/e)\n",
    "mu = (1-theta)*np.exp(Zmbar)*K_Hm**theta*a*(Cbar/Cmbar)**(1-e)/Cbar*(1-Hmbar-Hhbar)\n",
    "#mu = (1-eta)*Yhbar/Hhbar/Chbar/(a/(1-a)*(Cmbar/Chbar)**e+1)*(1-Hmbar-Hhbar)\n",
    "\n",
    "sigmaM = np.array([[sigma_m**2, sigma_mh],[sigma_mh, sigma_h**2]])\n",
    "print('Km/Hmbar: %0.2f' %K_Hm)\n",
    "print('Kh/Hhbar: %0.2f' %K_Hh)\n",
    "print('Kmbar   : %0.2f' %Kmbar)\n",
    "print('Khbar   : %0.2f' %Khbar)\n",
    "print('Ymbar: %0.2f' %Ymbar)\n",
    "print('Yhbar: %0.2f' %Yhbar)\n",
    "print('Cmbar: %0.2f' %Cmbar)\n",
    "print('Ch/Y : %0.2f' %(Chbar/Ymbar))\n",
    "print('a    : %0.2f' %a)\n",
    "print('mu   : %0.2f' %mu)\n",
    "print('Var-Cov matrix :')\n",
    "print(sigmaM)"
   ]
  },
  {
   "cell_type": "code",
   "execution_count": 76,
   "metadata": {},
   "outputs": [
    {
     "data": {
      "text/plain": [
       "0.13116673986239205"
      ]
     },
     "execution_count": 76,
     "metadata": {},
     "output_type": "execute_result"
    }
   ],
   "source": [
    "Khbar/Kmbar"
   ]
  },
  {
   "cell_type": "code",
   "execution_count": 77,
   "metadata": {},
   "outputs": [],
   "source": [
    "def fnU(var): # solve for utility fn. value given Wmat\n",
    "    [Zm, Zh, Km, Kh, Km_, Kh_, Hm, Hh] = var\n",
    "    Cm = np.exp(Zm)*Km**theta*Hm**(1-theta)+(1-delta)*(Km+Kh)-(Km_+Kh_)\n",
    "    Ch = np.exp(Zh)*Kh**eta*Hh**(1-eta)\n",
    "    C = (a*Cm**e + (1-a)*Ch**e)**(1/e)\n",
    "    return np.log(C) + mu*np.log(1-Hm-Hh)"
   ]
  },
  {
   "cell_type": "code",
   "execution_count": 78,
   "metadata": {},
   "outputs": [
    {
     "data": {
      "text/plain": [
       "-1.235693687266468"
      ]
     },
     "execution_count": 78,
     "metadata": {},
     "output_type": "execute_result"
    }
   ],
   "source": [
    "fnU([Zmbar, Zhbar, Kmbar, Khbar, Kmbar, Khbar, Hmbar, Hhbar])"
   ]
  },
  {
   "cell_type": "code",
   "execution_count": 79,
   "metadata": {},
   "outputs": [
    {
     "data": {
      "text/plain": [
       "array([[-2.53750895,  0.38458815,  0.22697385,  0.63557358,  0.63557154,\n",
       "        -0.6292104 , -0.62919843,  1.91229112,  1.91229935],\n",
       "       [ 0.38458815,  0.03961498, -0.13965801, -0.27400415, -0.28193448,\n",
       "         0.28219371,  0.28219455,  0.07682688, -0.45887572],\n",
       "       [ 0.22697385, -0.13965801,  0.0991518 , -0.11540852, -0.10657419,\n",
       "         0.11425499,  0.11425472, -0.2708514 ,  0.32578662],\n",
       "       [ 0.63557358, -0.27400415, -0.11540852, -0.23611668, -0.23298197,\n",
       "         0.23319652,  0.23319652, -0.53139798, -0.37919945],\n",
       "       [ 0.63557154, -0.28193448, -0.10657419, -0.23298197, -0.23678504,\n",
       "         0.23065133,  0.23065078, -0.54678068, -0.35017267],\n",
       "       [-0.6292104 ,  0.28219371,  0.11425499,  0.23319652,  0.23065133,\n",
       "        -0.23086422, -0.23086422,  0.54728694,  0.37540748],\n",
       "       [-0.62919843,  0.28219455,  0.11425472,  0.23319652,  0.23065078,\n",
       "        -0.23086422, -0.23087088,  0.54728638,  0.37540776],\n",
       "       [ 1.91229112,  0.07682688, -0.2708514 , -0.53139798, -0.54678068,\n",
       "         0.54728694,  0.54728638, -4.02329281, -2.80224011],\n",
       "       [ 1.91229935, -0.45887572,  0.32578662, -0.37919945, -0.35017267,\n",
       "         0.37540748,  0.37540776, -2.80224011, -3.50542151]])"
      ]
     },
     "execution_count": 79,
     "metadata": {},
     "output_type": "execute_result"
    }
   ],
   "source": [
    "# Make Q\n",
    "Wbar = np.array([Zmbar, Zhbar, Kmbar, Khbar, Kmbar, Khbar, Hmbar, Hhbar])[:,np.newaxis]\n",
    "Rmat = fnU(list(Wbar))\n",
    "Jmat, Hmat = fnJH(fnU, list(Wbar))\n",
    "\n",
    "Q11 = Rmat -Wbar.T@Jmat +Wbar.T@Hmat@Wbar/2\n",
    "Q12 = (Jmat-Hmat@Wbar)/2\n",
    "Q22 = Hmat/2\n",
    "Q = np.concatenate((np.concatenate((Q11,Q12.T),axis=1),np.concatenate((Q12,Q22),axis=1)),axis=0)\n",
    "Q"
   ]
  },
  {
   "cell_type": "code",
   "execution_count": 80,
   "metadata": {},
   "outputs": [],
   "source": [
    "# Number of variables\n",
    "l_exo = 2\n",
    "l_state = 2\n",
    "l_f = 1+ l_exo+l_state\n",
    "l_d = 4\n",
    "l_all = l_f+l_d"
   ]
  },
  {
   "cell_type": "code",
   "execution_count": 81,
   "metadata": {},
   "outputs": [
    {
     "name": "stdout",
     "output_type": "stream",
     "text": [
      "[[1.   0.   0.   0.   0.   0.   0.   0.   0.  ]\n",
      " [0.   0.95 0.   0.   0.   0.   0.   0.   0.  ]\n",
      " [0.   0.   0.95 0.   0.   0.   0.   0.   0.  ]\n",
      " [0.   0.   0.   0.   0.   1.   0.   0.   0.  ]\n",
      " [0.   0.   0.   0.   0.   0.   1.   0.   0.  ]]\n"
     ]
    }
   ],
   "source": [
    "# Make B\n",
    "B = np.zeros((l_f ,l_f+l_d))\n",
    "B[0,0] =1\n",
    "B[np.arange(1,l_exo+1),np.arange(1,l_exo+1)] = [rho, rho]\n",
    "B[1:1+l_exo,0] = [(1-rho)*Zmbar, (1-rho)*Zhbar]\n",
    "B[np.arange(1+l_exo,1+l_exo+l_state), np.arange(1+l_exo+l_state,1+l_exo+l_state+l_state)]=1\n",
    "print(B)"
   ]
  },
  {
   "cell_type": "code",
   "execution_count": 82,
   "metadata": {
    "scrolled": true
   },
   "outputs": [
    {
     "name": "stdout",
     "output_type": "stream",
     "text": [
      "Total number of iterations: 946\n",
      "Total running time: 0.060 seconds\n",
      "       \n"
     ]
    },
    {
     "data": {
      "text/plain": [
       "array([[-2.55239946e-01,  6.60940730e+00, -3.91836340e+00,\n",
       "         9.05151886e-01,  8.78331915e-01],\n",
       "       [ 8.52328460e-01, -4.83686802e+00,  3.85940375e+00,\n",
       "         5.60569057e-02,  5.42960086e-02],\n",
       "       [ 2.97887758e-01,  4.94512149e-01, -3.06118078e-01,\n",
       "         5.23312705e-03, -2.03681043e-02],\n",
       "       [ 3.71338527e-01, -3.36391592e-01,  3.31335377e-01,\n",
       "        -9.41939202e-03,  1.62659944e-02]])"
      ]
     },
     "execution_count": 82,
     "metadata": {},
     "output_type": "execute_result"
    }
   ],
   "source": [
    "tol = 0.0001\n",
    "\n",
    "P0 = np.ones((l_f,l_f))\n",
    "#P0 = np.zeros((l_f,l_f))\n",
    "Ppre = P0\n",
    "\n",
    "start_time = time.time()\n",
    "for i in range(2000):\n",
    "    Msigma = np.zeros((B.shape[1],B.shape[1]))\n",
    "    Msigma[0,0] = np.trace(Ppre[1:1+l_exo, 1:1+l_exo]@(np.identity(2)@sigmaM))\n",
    "    #If there are more than 2 exo shocks, then modify above line\n",
    "\n",
    "    M = B.T@Ppre@B + Msigma\n",
    "    #M\n",
    "    \n",
    "    P = Q[:l_f,:l_f] + beta*M[:l_f,:l_f] -((Q[:l_f,l_f:]+beta*M[:l_f,l_f:]) @ np.linalg.inv(Q[l_f:,l_f:]+beta*M[l_f:,l_f:]) @\\\n",
    "        (Q[:l_f,l_f:]+beta*M[:l_f,l_f:]).T)\n",
    "    dist = np.max(np.abs(P.flatten() - Ppre.flatten()))\n",
    "    if dist < tol:\n",
    "        print('Total number of iterations: %d' %(i+1))\n",
    "        print('Total running time: %0.3f seconds' % (time.time() - start_time))\n",
    "        print('       ')\n",
    "        Msigma = np.zeros((B.shape[1],B.shape[1]))\n",
    "        Msigma[0,0] = np.trace(Ppre[1:1+l_exo, 1:1+l_exo]@(np.identity(2)@sigmaM))\n",
    "        #If there are more than 2 exo shocks, then modify above line\n",
    "        M = B.T@P@B + Msigma\n",
    "        break\n",
    "    Ppre = P\n",
    "    if (i+1)%1000 ==0:\n",
    "        print('%d times running' %(i+1))\n",
    "        print('Iteration gap : %0.3f' %(dist))\n",
    "        if i==1999:\n",
    "            print('The maximum iteration number has reached')\n",
    "            print('Total running time: %0.3f seconds' % (time.time() - start_time))\n",
    "            print('       ')\n",
    "\n",
    "policy_f = -np.linalg.inv(Q[l_f:,l_f:]+beta*M[l_f:,l_f:]) @ (Q[:l_f,l_f:]+beta*M[:l_f,l_f:]).T\n",
    "policy_f # policy fn. shape(d,s)"
   ]
  },
  {
   "cell_type": "code",
   "execution_count": 83,
   "metadata": {},
   "outputs": [
    {
     "name": "stdout",
     "output_type": "stream",
     "text": [
      "[[12.53645367]\n",
      " [ 1.64436576]\n",
      " [ 0.33      ]\n",
      " [ 0.28      ]]\n",
      "[1, 0, 0, 12.536453667590242, 1.64436575701374, 12.536453667590242, 1.64436575701374, 0.33, 0.28]\n"
     ]
    }
   ],
   "source": [
    "print(policy_f @ np.array([1, Zmbar, Zhbar, Kmbar, Khbar])[:,np.newaxis])\n",
    "print([1,Zmbar, Zhbar, Kmbar, Khbar, Kmbar, Khbar, Hmbar, Hhbar])"
   ]
  },
  {
   "cell_type": "code",
   "execution_count": 84,
   "metadata": {},
   "outputs": [],
   "source": [
    "def plot_irf(txt):\n",
    "    fig = plt.figure(figsize=(15, 5))\n",
    "    plt.subplot(231)\n",
    "    plt.plot(np.arange(220),Ym_series)\n",
    "    plt.title('Y%s' %txt)\n",
    "    plt.subplot(232)\n",
    "    plt.plot(np.arange(220),C_series)\n",
    "    plt.title('C%s' %txt)\n",
    "    plt.subplot(233)\n",
    "    plt.plot(np.arange(220),I_series)\n",
    "    plt.title('I%s' %txt)\n",
    "    plt.subplot(234)\n",
    "    plt.plot(np.arange(220),K_series)\n",
    "    plt.title('K%s' %txt)\n",
    "    plt.subplot(235)\n",
    "    plt.plot(np.arange(220),Y_H_series)\n",
    "    plt.title('Y/H%s' %txt)\n",
    "    plt.subplot(236)\n",
    "    plt.plot(np.arange(220),R_series)\n",
    "    plt.title('R%s' %txt)\n",
    "    plt.tight_layout()\n",
    "    plt.show()"
   ]
  },
  {
   "cell_type": "code",
   "execution_count": 85,
   "metadata": {},
   "outputs": [
    {
     "data": {
      "image/png": "[encoded data removed]",
      "text/plain": [
       "<Figure size 1080x360 with 6 Axes>"
      ]
     },
     "metadata": {},
     "output_type": "display_data"
    },
    {
     "data": {
      "image/png": "[encoded data removed]",
      "text/plain": [
       "<Figure size 1080x360 with 6 Axes>"
      ]
     },
     "metadata": {},
     "output_type": "display_data"
    }
   ],
   "source": [
    "# Impulse response to Z innovation size 1\n",
    "Zmt_pre = Zmbar\n",
    "Zht_pre = Zhbar\n",
    "Kmt_pre = Kmbar\n",
    "Kht_pre = Khbar\n",
    "periods = 220\n",
    "\n",
    "Zm_shocks = np.array([1*sigma_m]+[0]*(periods-1))\n",
    "Zh_shocks = np.array([0]+[0]*(periods-1))\n",
    "\n",
    "Km_f_series = np.zeros(periods); Kh_f_series = np.zeros(periods)\n",
    "Hm_series = np.zeros(periods); Hh_series = np.zeros(periods)\n",
    "Zm_series = np.zeros(periods); Zh_series = np.zeros(periods)\n",
    "for t in range(periods):\n",
    "    Zmt_pre = (1-rho)*Zmbar + rho*Zmt_pre + Zm_shocks[t]\n",
    "    Zht_pre = (1-rho)*Zhbar + rho*Zht_pre + Zh_shocks[t]\n",
    "    d_t = policy_f @ np.array([1,Zmt_pre,Zht_pre,Kmt_pre,Kht_pre])[:,np.newaxis]\n",
    "    Kmt_pre = d_t[0]\n",
    "    Kht_pre = d_t[1]\n",
    "    Hm_series[t] = d_t[2]\n",
    "    Hh_series[t] = d_t[3]\n",
    "    Km_f_series[t] = Kmt_pre\n",
    "    Kh_f_series[t] = Kht_pre\n",
    "    Zm_series[t] = Zmt_pre\n",
    "    Zh_series[t] = Zht_pre\n",
    "\n",
    "Km_series = np.append(Kmbar, Km_f_series[:-1])\n",
    "Kh_series = np.append(Khbar, Kh_f_series[:-1])\n",
    "K_f_series = Km_f_series+Kh_f_series\n",
    "K_series = Km_series+Kh_series\n",
    "Ym_series = np.exp(Zm_series)*Km_series**theta*Hm_series**(1-theta)\n",
    "Yh_series = np.exp(Zh_series)*Kh_series**eta*Hh_series**(1-eta)\n",
    "I_series = K_f_series - (1-delta)*K_series\n",
    "Cm_series = Ym_series - I_series\n",
    "C_series = (a*Cm_series**e + (1-a)*Yh_series**e)**(1/e)\n",
    "Y_H_series = Ym_series/Hm_series\n",
    "R_series = Ym_series/Km_series*theta-delta\n",
    "plot_irf(' to the positive 1 std. Zm shock')   \n",
    "\n",
    "# Impulse response to G innovation size 1\n",
    "Zmt_pre = Zmbar\n",
    "Zht_pre = Zhbar\n",
    "Kmt_pre = Kmbar\n",
    "Kht_pre = Khbar\n",
    "\n",
    "Zm_shocks = np.array([0*sigma_m]+[0]*(periods-1))\n",
    "Zh_shocks = np.array([1*sigma_h]+[0]*(periods-1))\n",
    "\n",
    "Km_f_series = np.zeros(periods); Kh_f_series = np.zeros(periods)\n",
    "Hm_series = np.zeros(periods); Hh_series = np.zeros(periods)\n",
    "Zm_series = np.zeros(periods); Zh_series = np.zeros(periods)\n",
    "for t in range(periods):\n",
    "    Zmt_pre = (1-rho)*Zmbar + rho*Zmt_pre + Zm_shocks[t]\n",
    "    Zht_pre = (1-rho)*Zhbar + rho*Zht_pre + Zh_shocks[t]\n",
    "    d_t = policy_f @ np.array([1,Zmt_pre,Zht_pre,Kmt_pre,Kht_pre])[:,np.newaxis]\n",
    "    Kmt_pre = d_t[0]\n",
    "    Kht_pre = d_t[1]\n",
    "    Hm_series[t] = d_t[2]\n",
    "    Hh_series[t] = d_t[3]\n",
    "    Km_f_series[t] = Kmt_pre\n",
    "    Kh_f_series[t] = Kht_pre\n",
    "    Zm_series[t] = Zmt_pre\n",
    "    Zh_series[t] = Zht_pre\n",
    "    \n",
    "Km_series = np.append(Kmbar, Km_f_series[:-1])\n",
    "Kh_series = np.append(Khbar, Kh_f_series[:-1])\n",
    "K_f_series = Km_f_series+Kh_f_series\n",
    "K_series = Km_series+Kh_series\n",
    "Ym_series = np.exp(Zm_series)*Km_series**theta*Hm_series**(1-theta)\n",
    "Yh_series = np.exp(Zh_series)*Kh_series**eta*Hh_series**(1-eta)\n",
    "I_series = K_f_series - (1-delta)*K_series\n",
    "Cm_series = Ym_series - I_series\n",
    "C_series = (a*Cm_series**e + (1-a)*Yh_series**e)**(1/e)\n",
    "Y_H_series = Ym_series/Hm_series\n",
    "R_series = Ym_series/Km_series*theta-delta\n",
    "plot_irf(' to the positive 1 std. Zh shock')   "
   ]
  },
  {
   "cell_type": "code",
   "execution_count": 86,
   "metadata": {},
   "outputs": [
    {
     "data": {
      "image/png": "[encoded data removed]",
      "text/plain": [
       "<Figure size 432x288 with 1 Axes>"
      ]
     },
     "metadata": {},
     "output_type": "display_data"
    }
   ],
   "source": [
    "# Simulation\n",
    "rep = 1\n",
    "periods = 220\n",
    "\n",
    "shocks = np.random.multivariate_normal([0,0],sigmaM,(rep,periods))\n",
    "Zm_shocks = shocks[:,:,0]\n",
    "Zh_shocks = shocks[:,:,1]\n",
    "Km_f_series = np.zeros((rep,periods))\n",
    "Kh_f_series = np.zeros((rep,periods))\n",
    "Hm_series = np.zeros((rep,periods))\n",
    "Hh_series = np.zeros((rep,periods))\n",
    "Zm_series = np.zeros((rep,periods))\n",
    "Zh_series = np.zeros((rep,periods))\n",
    "\n",
    "for rr in range(rep):\n",
    "    Zmt_pre = Zmbar\n",
    "    Zht_pre = Zhbar\n",
    "    Kmt_pre = Kmbar\n",
    "    Kht_pre = Khbar\n",
    "    for t in range(periods):\n",
    "        Zmt_pre = (1-rho)*Zmbar + rho*Zmt_pre + Zm_shocks[rr, t]\n",
    "        Zht_pre = (1-rho)*Zhbar + rho*Zht_pre + Zh_shocks[rr, t]\n",
    "        d_t = policy_f @ np.array([1,Zmt_pre,Zht_pre,Kmt_pre,Kht_pre])[:,np.newaxis]\n",
    "        Kmt_pre = d_t[0]\n",
    "        Kht_pre = d_t[1]\n",
    "        Hm_series[rr, t] = d_t[2]\n",
    "        Hh_series[rr, t] = d_t[3]\n",
    "        Km_f_series[rr, t] = Kmt_pre\n",
    "        Kh_f_series[rr, t] = Kht_pre\n",
    "        Zm_series[rr, t] = Zmt_pre\n",
    "        Zh_series[rr, t] = Zht_pre\n",
    "\n",
    "Km_series = np.append(np.ones((rep,1))*Kmbar, Km_f_series[:,:-1], axis=1)\n",
    "Kh_series = np.append(np.ones((rep,1))*Khbar, Kh_f_series[:,:-1], axis=1)\n",
    "K_f_series = Km_f_series+Kh_f_series\n",
    "K_series = Km_series+Kh_series\n",
    "Ym_series = np.exp(Zm_series)*Km_series**theta*Hm_series**(1-theta)\n",
    "Yh_series = np.exp(Zh_series)*Kh_series**eta*Hh_series**(1-eta)\n",
    "I_series = K_f_series - (1-delta)*K_series\n",
    "Cm_series = Ym_series - I_series\n",
    "C_series = (a*Cm_series**e + (1-a)*Yh_series**e)**(1/e)\n",
    "Y_H_series = Ym_series/Hm_series\n",
    "R_series = Ym_series/Km_series*theta-delta\n",
    "\n",
    "K_series,_ = sm.tsa.filters.hpfilter(np.log(K_series), 1600)\n",
    "Y_series,_ = sm.tsa.filters.hpfilter(np.log(Ym_series), 1600)\n",
    "I_series,_ = sm.tsa.filters.hpfilter(np.log(I_series), 1600)\n",
    "C_series,_ = sm.tsa.filters.hpfilter(np.log(Cm_series), 1600)\n",
    "H_series,_ = sm.tsa.filters.hpfilter(np.log(Hm_series), 1600)\n",
    "Y_H_series,_ = sm.tsa.filters.hpfilter(np.log(Y_H_series), 1600)\n",
    "R_series,_ = sm.tsa.filters.hpfilter(np.log(R_series), 1600)\n",
    "\n",
    "plt.scatter(Y_H_series*100, Y_series*100, s=10)\n",
    "plt.title('Chart7. The Home Production Model')\n",
    "plt.show()"
   ]
  },
  {
   "cell_type": "code",
   "execution_count": 87,
   "metadata": {},
   "outputs": [
    {
     "data": {
      "text/plain": [
       "(100, 220, 2)"
      ]
     },
     "execution_count": 87,
     "metadata": {},
     "output_type": "execute_result"
    }
   ],
   "source": [
    "rep = 100\n",
    "periods = 220\n",
    "\n",
    "np.random.multivariate_normal([0,0],sigmaM,(rep,periods)).shape"
   ]
  },
  {
   "cell_type": "code",
   "execution_count": 88,
   "metadata": {},
   "outputs": [
    {
     "name": "stdout",
     "output_type": "stream",
     "text": [
      "% S.D of Y : 1.67\n",
      "S.D of C vs Y : 0.52\n",
      "S.D of I vs Y : 2.78\n",
      "S.D of H vs Y : 0.73\n",
      "S.D of Y_H vs Y : 0.40\n",
      "S.D of H vs Y_H : 1.82\n",
      "Corr(H, Y_H)    : 0.51\n"
     ]
    }
   ],
   "source": [
    "# Repeat Simulation\n",
    "rep = 100\n",
    "periods = 240\n",
    "\n",
    "shocks = np.random.multivariate_normal([0,0],sigmaM,(rep,periods))\n",
    "Zm_shocks = shocks[:,:,0]\n",
    "Zh_shocks = shocks[:,:,1]\n",
    "Km_f_series = np.zeros((rep,periods))\n",
    "Kh_f_series = np.zeros((rep,periods))\n",
    "Hm_series = np.zeros((rep,periods))\n",
    "Hh_series = np.zeros((rep,periods))\n",
    "Zm_series = np.zeros((rep,periods))\n",
    "Zh_series = np.zeros((rep,periods))\n",
    "\n",
    "for rr in range(rep):\n",
    "    Zmt_pre = Zmbar\n",
    "    Zht_pre = Zhbar\n",
    "    Kmt_pre = Kmbar\n",
    "    Kht_pre = Khbar\n",
    "    for t in range(periods):\n",
    "        Zmt_pre = (1-rho)*Zmbar + rho*Zmt_pre + Zm_shocks[rr, t]\n",
    "        Zht_pre = (1-rho)*Zhbar + rho*Zht_pre + Zh_shocks[rr, t]\n",
    "        d_t = policy_f @ np.array([1,Zmt_pre,Zht_pre,Kmt_pre,Kht_pre])[:,np.newaxis]\n",
    "        Kmt_pre = d_t[0]\n",
    "        Kht_pre = d_t[1]\n",
    "        Hm_series[rr, t] = d_t[2]\n",
    "        Hh_series[rr, t] = d_t[3]\n",
    "        Km_f_series[rr, t] = Kmt_pre\n",
    "        Kh_f_series[rr, t] = Kht_pre\n",
    "        Zm_series[rr, t] = Zmt_pre\n",
    "        Zh_series[rr, t] = Zht_pre\n",
    "\n",
    "Km_series = np.append(np.ones((rep,1))*Kmbar, Km_f_series[:,:-1], axis=1)\n",
    "Kh_series = np.append(np.ones((rep,1))*Khbar, Kh_f_series[:,:-1], axis=1)\n",
    "K_f_series = Km_f_series+Kh_f_series\n",
    "K_series = Km_series+Kh_series\n",
    "Ym_series = np.exp(Zm_series)*Km_series**theta*Hm_series**(1-theta)\n",
    "Yh_series = np.exp(Zh_series)*Kh_series**eta*Hh_series**(1-eta)\n",
    "I_series = K_f_series - (1-delta)*K_series\n",
    "Cm_series = Ym_series - I_series\n",
    "C_series = (a*Cm_series**e + (1-a)*Yh_series**e)**(1/e)\n",
    "Y_H_series = Ym_series/Hm_series\n",
    "R_series = Ym_series/Km_series*theta-delta\n",
    "\n",
    "simdata = {}; sim_sd={}\n",
    "simlist = ['Y','C','I','H','Y_H','R']\n",
    "varseries = [Ym_series, Cm_series, I_series, Hm_series, Y_H_series, R_series]\n",
    "for i, ser in enumerate(varseries):\n",
    "    for rr in range(rep):\n",
    "        cycle,_ = sm.tsa.filters.hpfilter(np.log(ser[rr,:]), 1600)\n",
    "        ser[rr,:] = cycle\n",
    "    simdata[simlist[i]] = np.mean(ser, axis=0)\n",
    "    sim_sd[simlist[i]] = np.mean(np.std(ser, axis=1))\n",
    "\n",
    "for rr in range(rep):\n",
    "    if rr==0:\n",
    "        stat = Stat(pd.DataFrame({simlist[i]:varseries[i][rr,:] for i in range(len(simlist))}))\n",
    "    else:\n",
    "        tmp = Stat(pd.DataFrame({simlist[i]:varseries[i][rr,:] for i in range(len(simlist))}))\n",
    "        stat += tmp\n",
    "stat= stat/rep\n",
    "stat= stat.round(2)\n",
    "\n",
    "corr_h_w = np.zeros(rep)\n",
    "for rr in range(rep):\n",
    "    corr_h_w[rr] = np.corrcoef(Hm_series[rr,:], Y_H_series[rr,:])[0,1]\n",
    "    \n",
    "print('%% S.D of Y : %0.2f' % (sim_sd['Y']*100))\n",
    "print('S.D of C vs Y : %0.2f' % (sim_sd['C']/sim_sd['Y']))\n",
    "print('S.D of I vs Y : %0.2f' % (sim_sd['I']/sim_sd['Y']))\n",
    "print('S.D of H vs Y : %0.2f' % (sim_sd['H']/sim_sd['Y']))\n",
    "print('S.D of Y_H vs Y : %0.2f' % (sim_sd['Y_H']/sim_sd['Y']))\n",
    "print('S.D of H vs Y_H : %0.2f' % (sim_sd['H']/sim_sd['Y_H']))\n",
    "print('Corr(H, Y_H)    : %0.2f' % (np.mean(corr_h_w)))"
   ]
  },
  {
   "cell_type": "code",
   "execution_count": 89,
   "metadata": {},
   "outputs": [
    {
     "data": {
      "text/html": [
       "<div>\n",
       "<style scoped>\n",
       "    .dataframe tbody tr th:only-of-type {\n",
       "        vertical-align: middle;\n",
       "    }\n",
       "\n",
       "    .dataframe tbody tr th {\n",
       "        vertical-align: top;\n",
       "    }\n",
       "\n",
       "    .dataframe thead th {\n",
       "        text-align: right;\n",
       "    }\n",
       "</style>\n",
       "<table border=\"1\" class=\"dataframe\">\n",
       "  <thead>\n",
       "    <tr style=\"text-align: right;\">\n",
       "      <th></th>\n",
       "      <th>SD</th>\n",
       "      <th>RelativeSD</th>\n",
       "      <th>Autocorr</th>\n",
       "      <th>CrossCorr-2</th>\n",
       "      <th>CrossCorr-1</th>\n",
       "      <th>CrossCorr</th>\n",
       "      <th>CrossCorr+1</th>\n",
       "      <th>CrossCorr+2</th>\n",
       "    </tr>\n",
       "  </thead>\n",
       "  <tbody>\n",
       "    <tr>\n",
       "      <th>Y</th>\n",
       "      <td>1.67</td>\n",
       "      <td>1.00</td>\n",
       "      <td>0.77</td>\n",
       "      <td>0.51</td>\n",
       "      <td>0.77</td>\n",
       "      <td>1.00</td>\n",
       "      <td>0.77</td>\n",
       "      <td>0.51</td>\n",
       "    </tr>\n",
       "    <tr>\n",
       "      <th>C</th>\n",
       "      <td>0.87</td>\n",
       "      <td>0.52</td>\n",
       "      <td>0.85</td>\n",
       "      <td>0.21</td>\n",
       "      <td>0.44</td>\n",
       "      <td>0.67</td>\n",
       "      <td>0.71</td>\n",
       "      <td>0.59</td>\n",
       "    </tr>\n",
       "    <tr>\n",
       "      <th>I</th>\n",
       "      <td>4.66</td>\n",
       "      <td>2.79</td>\n",
       "      <td>0.72</td>\n",
       "      <td>0.54</td>\n",
       "      <td>0.76</td>\n",
       "      <td>0.94</td>\n",
       "      <td>0.63</td>\n",
       "      <td>0.36</td>\n",
       "    </tr>\n",
       "    <tr>\n",
       "      <th>H</th>\n",
       "      <td>1.22</td>\n",
       "      <td>0.73</td>\n",
       "      <td>0.79</td>\n",
       "      <td>0.49</td>\n",
       "      <td>0.74</td>\n",
       "      <td>0.94</td>\n",
       "      <td>0.73</td>\n",
       "      <td>0.47</td>\n",
       "    </tr>\n",
       "    <tr>\n",
       "      <th>Y_H</th>\n",
       "      <td>0.67</td>\n",
       "      <td>0.40</td>\n",
       "      <td>0.73</td>\n",
       "      <td>0.37</td>\n",
       "      <td>0.57</td>\n",
       "      <td>0.78</td>\n",
       "      <td>0.58</td>\n",
       "      <td>0.41</td>\n",
       "    </tr>\n",
       "    <tr>\n",
       "      <th>R</th>\n",
       "      <td>5.26</td>\n",
       "      <td>3.15</td>\n",
       "      <td>0.70</td>\n",
       "      <td>0.58</td>\n",
       "      <td>0.79</td>\n",
       "      <td>0.94</td>\n",
       "      <td>0.59</td>\n",
       "      <td>0.30</td>\n",
       "    </tr>\n",
       "  </tbody>\n",
       "</table>\n",
       "</div>"
      ],
      "text/plain": [
       "       SD  RelativeSD  Autocorr  CrossCorr-2  CrossCorr-1  CrossCorr  \\\n",
       "Y    1.67        1.00      0.77         0.51         0.77       1.00   \n",
       "C    0.87        0.52      0.85         0.21         0.44       0.67   \n",
       "I    4.66        2.79      0.72         0.54         0.76       0.94   \n",
       "H    1.22        0.73      0.79         0.49         0.74       0.94   \n",
       "Y_H  0.67        0.40      0.73         0.37         0.57       0.78   \n",
       "R    5.26        3.15      0.70         0.58         0.79       0.94   \n",
       "\n",
       "     CrossCorr+1  CrossCorr+2  \n",
       "Y           0.77         0.51  \n",
       "C           0.71         0.59  \n",
       "I           0.63         0.36  \n",
       "H           0.73         0.47  \n",
       "Y_H         0.58         0.41  \n",
       "R           0.59         0.30  "
      ]
     },
     "execution_count": 89,
     "metadata": {},
     "output_type": "execute_result"
    }
   ],
   "source": [
    "stat"
   ]
  },
  {
   "cell_type": "code",
   "execution_count": null,
   "metadata": {},
   "outputs": [],
   "source": []
  },
  {
   "cell_type": "code",
   "execution_count": null,
   "metadata": {},
   "outputs": [],
   "source": []
  },
  {
   "cell_type": "code",
   "execution_count": null,
   "metadata": {},
   "outputs": [],
   "source": []
  },
  {
   "cell_type": "code",
   "execution_count": null,
   "metadata": {},
   "outputs": [],
   "source": []
  }
 ],
 "metadata": {
  "kernelspec": {
   "display_name": "Python 3",
   "language": "python",
   "name": "python3"
  },
  "language_info": {
   "codemirror_mode": {
    "name": "ipython",
    "version": 3
   },
   "file_extension": ".py",
   "mimetype": "text/x-python",
   "name": "python",
   "nbconvert_exporter": "python",
   "pygments_lexer": "ipython3",
   "version": "3.6.5"
  }
 },
 "nbformat": 4,
 "nbformat_minor": 2
}
